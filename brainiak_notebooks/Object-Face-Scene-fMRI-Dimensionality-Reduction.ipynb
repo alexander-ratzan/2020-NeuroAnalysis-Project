{
 "cells": [
  {
   "cell_type": "markdown",
   "metadata": {},
   "source": [
    "# fMRI Dimensionality Reduction\n",
    "\n",
    "## Introduction\n",
    "fMRI analysis often has a dimensionality problem: we get approximately 100,000 voxels (features) per volume, but only 100s of time points or trials (examples). This makes it very hard for machine learning algorithms to model how each voxel contributes. This problem is dubbed the curse of dimensionality.\n",
    "\n",
    "In this notebook we are going to explore several methods to reduce the dimensionality of complex fMRI data. \n",
    "\n",
    "## Goal of this Script\n",
    "1. Learn to compute the covariance of a dataset.  \n",
    "2. Reduce the feature space using principal component analysis (PCA).  \n",
    "3. Interpret the meaning of PCA components.  \n",
    "4. Perform feature selection using cross-validation.  \n",
    "\n",
    "## Table of Contents\n",
    "* [1. Load the Data](#load_data)  \n",
    "\n",
    "* [2. Covariance](#covariance)  \n",
    "\n",
    "* [3. PCA](#pca)  \n",
    "    * [3.1 Plot PCA](#plot_pca)  \n",
    "    * [3.2 \"Scree\" Plots](#scree)  \n",
    "    * [3.3 Interpreting Components](#cog-relevance)  \n",
    "    * [3.4 Normalization](#pca-norm)  \n",
    "    * [3.5  PCA Dimensionality Reduction and Classification](#wb-pca-class)  \n",
    "\n",
    "\n",
    "* [4. Feature Selection](#feat)  \n",
    "    * [4.1 Feature Selection: Pipelines](#pipeline)  \n",
    "    * [4.2 Feature Selection: Univariate](#univariate)   \n",
    "\n",
    "* [Conclusion](#conclusion)\n",
    "\n",
    "* [Contributions](#contributions)"
   ]
  },
  {
   "cell_type": "markdown",
   "metadata": {},
   "source": [
    "**Dataset:** For this script we will use a localizer dataset from [Kim et al. (2017)](https://doi.org/10.1523/JNEUROSCI.3272-16.2017). \n",
    "\n",
    "The localizer consisted of 3 runs with 5 blocks of each category (faces, scenes and objects) per run. Each block was presented for 15s. Within a block, a stimulus was presented every 1.5s (1 TR). Between blocks, there was 15s (10 TRs) of fixation. Each run was 310 TRs. In the matlab stimulus file, the first row codes for the stimulus category for each trial (1 = Faces, 2 = Scenes, 3 = Objects). The 3rd row contains the time (in seconds, relative to the start of the run) when the stimulus was presented for each trial.\n"
   ]
  },
  {
   "cell_type": "code",
   "execution_count": 1,
   "metadata": {},
   "outputs": [
    {
     "data": {
      "application/javascript": [
       "IPython.notebook.set_autosave_interval(5000)"
      ]
     },
     "metadata": {},
     "output_type": "display_data"
    },
    {
     "name": "stdout",
     "output_type": "stream",
     "text": [
      "Autosaving every 5 seconds\n"
     ]
    }
   ],
   "source": [
    "import warnings\n",
    "import sys\n",
    "if not sys.warnoptions:\n",
    "    warnings.simplefilter('ignore')\n",
    "\n",
    "# Import neuroimaging, analysis and general libraries\n",
    "import numpy as np\n",
    "from time import time\n",
    "import pandas as pd\n",
    "\n",
    "# Import plotting libraries\n",
    "import matplotlib.pyplot as plt\n",
    "import seaborn as sns\n",
    "\n",
    "# Machine learning libraries\n",
    "from sklearn.model_selection import cross_val_score, cross_validate, PredefinedSplit\n",
    "from sklearn.svm import SVC\n",
    "from sklearn.decomposition import PCA\n",
    "from sklearn.feature_selection import SelectKBest, RFECV, f_classif\n",
    "from sklearn.pipeline import Pipeline\n",
    "\n",
    "%matplotlib inline\n",
    "%autosave 5\n",
    "sns.set(style = 'white', context='poster', rc={'lines.linewidth': 2.5})\n",
    "sns.set(palette=\"colorblind\")"
   ]
  },
  {
   "cell_type": "code",
   "execution_count": 2,
   "metadata": {},
   "outputs": [
    {
     "name": "stdout",
     "output_type": "stream",
     "text": [
      "Here're some constants, which is specific for VDC data:\n",
      "data dir = /Users/aratzan/Downloads/brainiak_datasets/vdc\n",
      "ROIs = ['FFA', 'PPA']\n",
      "Labels = {1: 'Faces', 2: 'Scenes', 3: 'Objects'}\n",
      "number of runs = 3\n",
      "1 TR = 1.50 sec\n",
      "HRF lag = 4.50 sec\n",
      "num TRs per run = 310\n"
     ]
    }
   ],
   "source": [
    "# load some helper functions\n",
    "from utils import load_labels, load_data, blockwise_sampling, label2TR, shift_timing, reshape_data\n",
    "from utils import normalize, decode\n",
    "# load some constants\n",
    "from utils import vdc_data_dir, vdc_all_ROIs, vdc_label_dict, vdc_n_runs, vdc_hrf_lag, vdc_TR, vdc_TRs_run\n",
    "\n",
    "print('Here\\'re some constants, which is specific for VDC data:')\n",
    "print('data dir = %s' % (vdc_data_dir))\n",
    "print('ROIs = %s' % (vdc_all_ROIs))\n",
    "print('Labels = %s' % (vdc_label_dict))\n",
    "print('number of runs = %s' % (vdc_n_runs))\n",
    "print('1 TR = %.2f sec' % (vdc_TR))\n",
    "print('HRF lag = %.2f sec' % (vdc_hrf_lag))\n",
    "print('num TRs per run = %d' % (vdc_TRs_run))"
   ]
  },
  {
   "cell_type": "markdown",
   "metadata": {},
   "source": [
    "## 1. Load the Data <a id=\"load_data\"></a>\n",
    "\n",
    "Load the data for one participant using helper functions."
   ]
  },
  {
   "cell_type": "code",
   "execution_count": 3,
   "metadata": {},
   "outputs": [],
   "source": [
    "sub_id = 1\n",
    "mask_name = '' #can be 'FFA' or 'PPA'\n",
    "# This is set in order to reduce memory demands in order to run within 4Gb, \n",
    "# however, if you want to make this run on whole brain, then set this to ''"
   ]
  },
  {
   "cell_type": "code",
   "execution_count": 4,
   "metadata": {},
   "outputs": [
    {
     "name": "stdout",
     "output_type": "stream",
     "text": [
      "Loaded  sub-01\n",
      "Processing Start ...\n",
      "Loading data from /Users/aratzan/Downloads/brainiak_datasets/vdc/sub-01/preprocessed/loc/sub-01_filtered2_d1_firstExampleFunc_r1.nii\n",
      "Loading data from /Users/aratzan/Downloads/brainiak_datasets/vdc/sub-01/preprocessed/loc/sub-01_filtered2_d1_firstExampleFunc_r2.nii\n",
      "Loading data from /Users/aratzan/Downloads/brainiak_datasets/vdc/sub-01/preprocessed/loc/sub-01_filtered2_d1_firstExampleFunc_r3.nii\n",
      "sub-01 = TRs:  930 ; Voxels:  177314\n",
      "Expected blocks: 45; Resampled blocks: 45\n"
     ]
    }
   ],
   "source": [
    "# Specify the subject name\n",
    "sub = 'sub-%.2d' % (sub_id)\n",
    "# Convert the shift into TRs\n",
    "shift_size = int(vdc_hrf_lag / vdc_TR)  \n",
    "\n",
    "# Load subject labels\n",
    "stim_label_allruns = load_labels(vdc_data_dir, sub)\n",
    "\n",
    "# Load run_ids\n",
    "run_ids_raw = stim_label_allruns[5,:] - 1 \n",
    "\n",
    "# Load the fMRI data using a mask\n",
    "epi_mask_data_all = load_data(vdc_data_dir, sub, mask_name=mask_name)[0]\n",
    "\n",
    "# This can differ per participant\n",
    "print(sub, '= TRs: ', epi_mask_data_all.shape[1], '; Voxels: ', epi_mask_data_all.shape[0])\n",
    "TRs_run = int(epi_mask_data_all.shape[1] / vdc_n_runs)\n",
    "\n",
    "# Convert the timing into TR indexes\n",
    "stim_label_TR = label2TR(stim_label_allruns, vdc_n_runs, vdc_TR, TRs_run)\n",
    "\n",
    "# Shift the data some amount\n",
    "stim_label_TR_shifted = shift_timing(stim_label_TR, shift_size)\n",
    "\n",
    "# Perform the reshaping of the data\n",
    "bold_data_raw, labels_raw = reshape_data(stim_label_TR_shifted, epi_mask_data_all)\n",
    "\n",
    "# Normalize raw data within each run\n",
    "bold_normalized_raw = normalize(bold_data_raw, run_ids_raw)\n",
    "\n",
    "# Down sample the data to be blockwise rather than trialwise. \n",
    "#We'll use the blockwise data for all the \n",
    "bold_data, labels, run_ids = blockwise_sampling(bold_data_raw, labels_raw, run_ids_raw)\n",
    "\n",
    "# Normalize blockwise data within each run\n",
    "bold_normalized = normalize(bold_data, run_ids)"
   ]
  },
  {
   "cell_type": "markdown",
   "metadata": {},
   "source": [
    "## 2. Covariance <a id=\"covariance\"></a>\n",
    "\n",
    "To illustrate the building blocks behind dimensionality reduction we will calculate the whole brain covariance and correlation matrix. \n",
    "\n",
    "Memory demands can be reduced by implementing a mask on the data. There are nearly 1 million voxels in every volume acquired, of which about 15% are in the brain. The data matrix of >100,000 voxels and <1000 time points is very large, making any computations on all of this data very intensive."
   ]
  },
  {
   "cell_type": "markdown",
   "metadata": {},
   "source": [
    "The covariance of two variables is calculated as follows: $$ Cov(X,Y) = \\frac{\\sum_{1}^{N}(X-\\bar{X})(Y-\\bar{Y})}{(N-1)}$$\n",
    "where $\\mbox{  }  \\bar{X} = mean(X), \\mbox{  } \\bar{Y} = mean(Y), \\mbox{  } N = \\mbox{number of samples } $\n",
    "\n",
    "Here we compute the covariance between two blocks (i.e., their averaged patterns across voxels).\n",
    "(reference: [here]( https://docs.scipy.org/doc/numpy-1.13.0/reference/generated/numpy.cov.html))\n"
   ]
  },
  {
   "cell_type": "code",
   "execution_count": 5,
   "metadata": {},
   "outputs": [
    {
     "name": "stdout",
     "output_type": "stream",
     "text": [
      "(45, 177314)\n",
      "[[0.72974702 0.04715102]\n",
      " [0.04715102 0.7667193 ]]\n"
     ]
    }
   ],
   "source": [
    "print(bold_normalized.shape)\n",
    "\n",
    "X = bold_normalized[2]\n",
    "Y = bold_normalized[3]\n",
    "\n",
    "print(np.cov(X, Y))\n"
   ]
  },
  {
   "cell_type": "markdown",
   "metadata": {},
   "source": [
    "Covariance is dependent on the unit and scale of the measurement. Its value is thus not easily interpretable or comparable across datasets -- e.g. is there a strong relationship between X and Y if the covariance is 200 as compared to 2 or 2000?\n",
    "\n",
    "Correlation solves this problem by normalizing the range of the covariance from -1 to +1.\n",
    "\n",
    "$$ Corr(X,Y) = \\frac{Cov(X,Y)}{\\sqrt{\\frac{\\sum_{1}^{N}(X-\\bar{X})^2}{(N-1)}}\\sqrt{\\frac{\\sum_{1}^{N}(Y-\\bar{Y})^2}{(N-1)}}}$$\n",
    "\n",
    "Compute the correlation between all pairs of blocks with a numpy function that calculates the block-by-block correlation matrix in one step."
   ]
  },
  {
   "cell_type": "code",
   "execution_count": 6,
   "metadata": {},
   "outputs": [
    {
     "name": "stdout",
     "output_type": "stream",
     "text": [
      "[[ 1.         -0.08845684 -0.10432531 ... -0.0617117   0.00716105\n",
      "   0.04060892]\n",
      " [-0.08845684  1.         -0.29326922 ...  0.05756334 -0.0574214\n",
      "  -0.02382237]\n",
      " [-0.10432531 -0.29326922  1.         ... -0.02892532  0.05141131\n",
      "   0.00837057]\n",
      " ...\n",
      " [-0.0617117   0.05756334 -0.02892532 ...  1.         -0.34035048\n",
      "  -0.1573486 ]\n",
      " [ 0.00716105 -0.0574214   0.05141131 ... -0.34035048  1.\n",
      "  -0.21931423]\n",
      " [ 0.04060892 -0.02382237  0.00837057 ... -0.1573486  -0.21931423\n",
      "   1.        ]]\n"
     ]
    }
   ],
   "source": [
    "print(np.corrcoef(bold_normalized))"
   ]
  },
  {
   "cell_type": "markdown",
   "metadata": {},
   "source": [
    "## 3. PCA <a id=\"pca\"></a>\n",
    "\n",
    "We will use principal component analysis (PCA) to **reduce the dimensionality** of the data. Some voxels may contain correlated information or no information and so the original voxel-dimensional data matrix (time-by-voxels) can be projected into a lower-dimensional \"component\" matrix space (time-by-component) without losing much information.\n",
    "\n",
    "![image](https://cdn-images-1.medium.com/max/1200/1*Iri_LDMXuz2Qac-8KPeESA.png)"
   ]
  },
  {
   "cell_type": "code",
   "execution_count": 7,
   "metadata": {
    "scrolled": true
   },
   "outputs": [
    {
     "name": "stdout",
     "output_type": "stream",
     "text": [
      "Original data shape: (45, 177314)\n",
      "PCA data shape: (45, 20)\n"
     ]
    }
   ],
   "source": [
    "# Use the PCA function in scikit-learn to reduce the dimensionality of the data\n",
    "# The number of components was chosen arbitrarily.\n",
    "pca = PCA(n_components=20)\n",
    "bold_pca = pca.fit_transform(bold_data) #5519 features --> 20 components\n",
    "var= pca.explained_variance_ratio_\n",
    "\n",
    "print('Original data shape:', bold_data.shape)\n",
    "print('PCA data shape:', bold_pca.shape)"
   ]
  },
  {
   "cell_type": "markdown",
   "metadata": {},
   "source": [
    "### 3.1 Plot PCA <a id=\"plot_pca\"></a>\n",
    "\n",
    "Let's visualize the variance in the data along different component dimensions."
   ]
  },
  {
   "cell_type": "code",
   "execution_count": 8,
   "metadata": {},
   "outputs": [
    {
     "data": {
      "image/png": "[encoded data removed]",
      "text/plain": [
       "<Figure size 1008x252 with 4 Axes>"
      ]
     },
     "metadata": {},
     "output_type": "display_data"
    }
   ],
   "source": [
    "# Setting plotting parameter\n",
    "n_bins=75\n",
    "\n",
    "# Plot\n",
    "n_plots = 4\n",
    "components_to_plot = [0,1,2,19]\n",
    "f, axes = plt.subplots(1, n_plots, figsize=(14, 14/n_plots))\n",
    "st=f.suptitle(\"Figure 3.1. Histogram of values for each PC dimension \", fontsize=\"x-large\")\n",
    "\n",
    "for i in range(n_plots): \n",
    "    axes[i].hist(bold_pca[:, components_to_plot[i]], \n",
    "                 bins=n_bins)\n",
    "    # mark the plots \n",
    "    axes[i].set_title('PC Dimension %d'%(components_to_plot[i]+1))\n",
    "    axes[i].set_ylabel('Frequency')\n",
    "    axes[i].set_xlabel('Value')    \n",
    "    axes[i].set_xticks([])\n",
    "    axes[i].set_yticks([])    \n",
    "\n",
    "f.tight_layout()\n",
    "st.set_y(0.95)\n",
    "f.subplots_adjust(top=0.75)\n"
   ]
  },
  {
   "cell_type": "markdown",
   "metadata": {},
   "source": [
    "Let's visualize the relationship between variances across pairs of components."
   ]
  },
  {
   "cell_type": "code",
   "execution_count": 9,
   "metadata": {},
   "outputs": [
    {
     "data": {
      "image/png": "[encoded data removed]",
      "text/plain": [
       "<Figure size 1008x360 with 3 Axes>"
      ]
     },
     "metadata": {},
     "output_type": "display_data"
    }
   ],
   "source": [
    "\"\"\"\n",
    "Plot the low dim representation of the bold data\n",
    "\"\"\"\n",
    "# Setting plotting parameters\n",
    "alpha_val = .8\n",
    "cur_pals = sns.color_palette('colorblind', n_colors=vdc_n_runs)\n",
    "\n",
    "# Plot\n",
    "n_plots = 3 \n",
    "f, axes = plt.subplots(1, n_plots, figsize=(14,5))\n",
    "st=f.suptitle(\"Figure 3.2. Scatter plots comparing PCA dimensions \", fontsize=\"x-large\")\n",
    "\n",
    "# plot data\n",
    "axes[0].scatter(bold_pca[:, 0], bold_pca[:, 1], \n",
    "                alpha=alpha_val, marker='.', color = 'k')\n",
    "axes[1].scatter(bold_pca[:, 2], bold_pca[:, 3], \n",
    "                alpha=alpha_val, marker='.', color = 'k')\n",
    "axes[2].scatter(bold_pca[:, 18], bold_pca[:, 19], \n",
    "                alpha=alpha_val, marker='.', color = 'k')\n",
    "\n",
    "axes[0].set_title('PCA Dimensions\\n1 x 2')\n",
    "axes[1].set_title('PCA Dimensions\\n3 x 4')\n",
    "axes[2].set_title('PCA Dimensions\\n18 x 19')\n",
    "\n",
    "# modifications that are common to all plots \n",
    "for i in range(n_plots): \n",
    "    axes[i].axis('equal')\n",
    "    axes[i].set_xticks([])\n",
    "    axes[i].set_yticks([])\n",
    "\n",
    "f.tight_layout()\n",
    "st.set_y(0.95)\n",
    "f.subplots_adjust(top=0.75)\n"
   ]
  },
  {
   "cell_type": "markdown",
   "metadata": {},
   "source": [
    "**Explanation:** As we can see, there is evident variance between some principal components and others not as much. \n",
    "\n",
    "This can help illustrate how many principal components explain the variance in the data... what are the defining features in low dimensionality. "
   ]
  },
  {
   "cell_type": "markdown",
   "metadata": {},
   "source": [
    "### 3.2 \"Scree\" Plots <a id=\"scree\"></a>\n",
    "\n",
    "A [\"scree\" plot](https://www.theanalysisfactor.com/factor-analysis-how-many-factors/) can depict the amount of variance in the original data that is explained by each component.\n",
    "\n",
    "The scree plot below shows how many components would be sufficient to account for most of the variance. "
   ]
  },
  {
   "cell_type": "code",
   "execution_count": 10,
   "metadata": {},
   "outputs": [
    {
     "data": {
      "text/plain": [
       "Text(0, 0.5, 'Eigenvalue')"
      ]
     },
     "execution_count": 10,
     "metadata": {},
     "output_type": "execute_result"
    },
    {
     "data": {
      "image/png": "[encoded data removed]",
      "text/plain": [
       "<Figure size 432x288 with 1 Axes>"
      ]
     },
     "metadata": {},
     "output_type": "display_data"
    }
   ],
   "source": [
    "var = pca.explained_variance_ratio_ #use var instead of eignevalcount\n",
    "\n",
    "plt.plot(np.arange(0, bold_pca.shape[1]), var, 'ro-', linewidth=2)\n",
    "plt.title('Scree Plot')\n",
    "plt.xlabel('Principal Component')\n",
    "plt.ylabel('Eigenvalue')"
   ]
  },
  {
   "cell_type": "markdown",
   "metadata": {},
   "source": [
    "**Explanation:** This data shows that the first 2 principal components account for most of the variance in the data. This affirms the PCA dimensionality scatter plots. "
   ]
  },
  {
   "cell_type": "markdown",
   "metadata": {},
   "source": [
    "### 3.3 Interpreting Components  <a id=\"cog-relevance\"></a>\n",
    "\n",
    "Here we aim to attribute clusters to what they represent in the data. Let's have a look at what the PCA 1x2 plot clusters truly represent. "
   ]
  },
  {
   "cell_type": "markdown",
   "metadata": {},
   "source": [
    "**Scatter Plot 1:**  Principal Component 1 x Principal Component 2 with labels color coded. "
   ]
  },
  {
   "cell_type": "code",
   "execution_count": 11,
   "metadata": {},
   "outputs": [
    {
     "data": {
      "image/png": "[encoded data removed]",
      "text/plain": [
       "<Figure size 432x288 with 1 Axes>"
      ]
     },
     "metadata": {},
     "output_type": "display_data"
    }
   ],
   "source": [
    "\"\"\"\n",
    "Plot the low dim representation of the bold data\n",
    "\"\"\"\n",
    "from matplotlib  import cm\n",
    "# Setting plotting parameters\n",
    "alpha_val = .8\n",
    "cur_pals = sns.color_palette('colorblind', n_colors=vdc_n_runs)\n",
    "\n",
    "# plot pca vals of each run with different color based on their label \n",
    "# PCA 1 and 2 for all rows \n",
    " \n",
    "# separate scatters by label \n",
    "for i in range(len(labels)):\n",
    "    if labels[i] == 1: #faces\n",
    "        plt.scatter(bold_pca[i, 0], bold_pca[i, 1],\n",
    "                alpha=alpha_val, marker='.', color = 'r')\n",
    "    elif labels[i] == 2: #scenes \n",
    "        plt.scatter(bold_pca[i, 0], bold_pca[i, 1],\n",
    "                alpha=alpha_val, marker='.', color = 'y')\n",
    "    else: #objects \n",
    "        plt.scatter(bold_pca[i, 0], bold_pca[i, 1],\n",
    "                alpha=alpha_val, marker='.', color = 'b')\n",
    "\n",
    "plt.show()"
   ]
  },
  {
   "cell_type": "code",
   "execution_count": 12,
   "metadata": {},
   "outputs": [
    {
     "name": "stdout",
     "output_type": "stream",
     "text": [
      "15\n",
      "30\n",
      "45\n"
     ]
    },
    {
     "data": {
      "image/png": "[encoded data removed]",
      "text/plain": [
       "<Figure size 432x288 with 1 Axes>"
      ]
     },
     "metadata": {},
     "output_type": "display_data"
    }
   ],
   "source": [
    "alpha_val = .8\n",
    "cur_pals = sns.color_palette('colorblind', n_colors=vdc_n_runs)\n",
    "\n",
    "#figure out how to separate scatters by run id  \n",
    "i = 0\n",
    "while i < len(run_ids):\n",
    "    i+=15\n",
    "    color = 'r'\n",
    "    print(i)\n",
    "    if i > 30:\n",
    "        color = 'b'\n",
    "    elif i > 15:\n",
    "        color = 'y'\n",
    "    plt.scatter(bold_pca[i-15:i, 0], bold_pca[i-15:i, 1], alpha=alpha_val, marker='.', color = color)\n",
    "    \n",
    "plt.show()\n",
    "\n",
    "#split up by run, likely shows that runs were not all metrically equal "
   ]
  },
  {
   "cell_type": "markdown",
   "metadata": {},
   "source": [
    "**Explanation:** The results of these plots show that between runs the fMRI data may not be metrically consistent. Bold data differs more due to run id rather than label. Below we will see methods that can be used to still classify bold data by label. "
   ]
  },
  {
   "cell_type": "markdown",
   "metadata": {},
   "source": [
    "### 3.4 Normalization <a id=\"pca-norm\"></a>\n",
    "\n",
    "Previously we ran the PCA analysis without normalizing the data.\n",
    "\n",
    "The previous PCA was ran on bold_data. Here we will apply PCA on the same data after applying normalization. "
   ]
  },
  {
   "cell_type": "code",
   "execution_count": 14,
   "metadata": {},
   "outputs": [
    {
     "name": "stdout",
     "output_type": "stream",
     "text": [
      "[0.20894986 0.06794341 0.05489049 0.04346689 0.03751845 0.03053131\n",
      " 0.02996581 0.02685036 0.02583195 0.02503488 0.02296694 0.02158888\n",
      " 0.02007598 0.01929076 0.01890483 0.01833781 0.01659148 0.01633347\n",
      " 0.01630362 0.01516502]\n"
     ]
    },
    {
     "data": {
      "text/plain": [
       "Text(0, 0.5, 'Eigenvalue')"
      ]
     },
     "execution_count": 14,
     "metadata": {},
     "output_type": "execute_result"
    },
    {
     "data": {
      "image/png": "[encoded data removed]",
      "text/plain": [
       "<Figure size 432x288 with 1 Axes>"
      ]
     },
     "metadata": {},
     "output_type": "display_data"
    }
   ],
   "source": [
    "pca = PCA(n_components=20)\n",
    "bold_pca = pca.fit_transform(bold_normalized)\n",
    "\n",
    "var = pca.explained_variance_ratio_ \n",
    "print(var)\n",
    "\n",
    "plt.plot(np.arange(0, bold_pca.shape[1]), var, 'ro-', linewidth=2)\n",
    "plt.title('Scree Plot')\n",
    "plt.xlabel('Principal Component')\n",
    "plt.ylabel('Eigenvalue')\n"
   ]
  },
  {
   "cell_type": "markdown",
   "metadata": {},
   "source": [
    "Scree plot looks similar, although this doesn't indicate similarity in what the principal components represent. "
   ]
  },
  {
   "cell_type": "code",
   "execution_count": 15,
   "metadata": {},
   "outputs": [
    {
     "data": {
      "image/png": "[encoded data removed]",
      "text/plain": [
       "<Figure size 432x288 with 1 Axes>"
      ]
     },
     "metadata": {},
     "output_type": "display_data"
    }
   ],
   "source": [
    "from matplotlib  import cm\n",
    "# Setting plotting parameters\n",
    "alpha_val = .8\n",
    "cur_pals = sns.color_palette('colorblind', n_colors=vdc_n_runs)\n",
    "\n",
    "# plot pca vals of each run with different color based on their label \n",
    "# PCA 1 and 2 for all rows \n",
    " \n",
    "# separate scatters by label \n",
    "for i in range(len(labels)):\n",
    "    if labels[i] == 1: #faces\n",
    "        plt.scatter(bold_pca[i, 0], bold_pca[i, 1],\n",
    "                alpha=alpha_val, marker='.', color = 'r')\n",
    "    elif labels[i] == 2: #scenes \n",
    "        plt.scatter(bold_pca[i, 0], bold_pca[i, 1],\n",
    "                alpha=alpha_val, marker='.', color = 'y')\n",
    "    else: #objects \n",
    "        plt.scatter(bold_pca[i, 0], bold_pca[i, 1],\n",
    "                alpha=alpha_val, marker='.', color = 'b')\n",
    "\n",
    "plt.show()"
   ]
  },
  {
   "cell_type": "markdown",
   "metadata": {},
   "source": [
    "No evident clustering indicates the first 2 principal components may not be enough to explain the data. "
   ]
  },
  {
   "cell_type": "markdown",
   "metadata": {},
   "source": [
    "### 3.5 PCA Dimensionality Reduction and Classification <a id=\"wb-pca-class\"></a>\n",
    "\n",
    "Test some classifiers on dimensionalty reduced data ."
   ]
  },
  {
   "cell_type": "code",
   "execution_count": 16,
   "metadata": {},
   "outputs": [
    {
     "name": "stdout",
     "output_type": "stream",
     "text": [
      "Baseline classification\n",
      "Original size:  (45, 177314)\n",
      "Accuracy:  [0.8, 0.9333333333333333, 0.8]\n",
      "Run time: 1.3301s\n"
     ]
    }
   ],
   "source": [
    "# Run a basic n-fold classification\n",
    "\n",
    "# Get baseline, whole-brain decoding accuracy without PCA\n",
    "print('Baseline classification')\n",
    "print('Original size: ', bold_normalized.shape)\n",
    "svc = SVC(kernel=\"linear\", C=1)\n",
    "\n",
    "start = time()\n",
    "models, scores = decode(bold_normalized, labels, run_ids, svc)\n",
    "end = time()\n",
    "print('Accuracy: ', scores)\n",
    "print('Run time: %0.4fs' %(end - start))"
   ]
  },
  {
   "cell_type": "code",
   "execution_count": 17,
   "metadata": {},
   "outputs": [
    {
     "name": "stdout",
     "output_type": "stream",
     "text": [
      "PCA (c=20) classification\n",
      "New size after PCA:  (45, 20)\n",
      "Accuracy:  [0.8666666666666667, 0.8666666666666667, 0.7333333333333333]\n",
      "Run time: 0.0059s\n"
     ]
    }
   ],
   "source": [
    "# Run the classifier on data in component space \n",
    "pca = PCA(n_components=20)\n",
    "bold_pca_normalized = pca.fit_transform(bold_normalized)\n",
    "print('PCA (c=%d) classification' % bold_pca_normalized.shape[1])\n",
    "print('New size after PCA: ', bold_pca_normalized.shape)\n",
    "\n",
    "start = time()\n",
    "models_pca, scores_pca = decode(bold_pca_normalized, labels, run_ids, svc)\n",
    "end = time()\n",
    "print('Accuracy: ', scores_pca)\n",
    "print('Run time: %0.4fs' %(end - start))"
   ]
  },
  {
   "cell_type": "markdown",
   "metadata": {},
   "source": [
    "**Explanation:** In this case PCA does not greatly alter decoding accuracy. **However, note that similar performance was achieved with 20 vs. 177,314 features, that the analysis ran 300-500x faster, and that the resulting model is likely to generalize better to new data (e.g., from a different subject).**"
   ]
  },
  {
   "cell_type": "markdown",
   "metadata": {},
   "source": [
    "Now, test how the number of components affects the accuracy of classifiers. "
   ]
  },
  {
   "cell_type": "code",
   "execution_count": 19,
   "metadata": {},
   "outputs": [
    {
     "name": "stdout",
     "output_type": "stream",
     "text": [
      "PCA (c=14) classification\n",
      "New size after PCA:  (45, 14)\n",
      "Accuracy:  [0.9333333333333333, 1.0, 0.9333333333333333]\n",
      "Run time: 0.0035s\n"
     ]
    }
   ],
   "source": [
    "pca = PCA(n_components=14)\n",
    "bold_pca_normalized = pca.fit_transform(bold_normalized)\n",
    "print('PCA (c=%d) classification' % bold_pca_normalized.shape[1])\n",
    "print('New size after PCA: ', bold_pca_normalized.shape)\n",
    "\n",
    "start = time()\n",
    "models_pca, scores_pca = decode(bold_pca_normalized, labels, run_ids, svc)\n",
    "end = time()\n",
    "print('Accuracy: ', scores_pca)\n",
    "print('Run time: %0.4fs' %(end - start))\n",
    "\n",
    "#4 components is enough for this example "
   ]
  },
  {
   "cell_type": "markdown",
   "metadata": {},
   "source": [
    "**Explanation:** Around 14 principal components are required for a high quality classifier. 5 principal components or more will give better than random accuracy. "
   ]
  },
  {
   "cell_type": "markdown",
   "metadata": {},
   "source": [
    "## 4. Feature Selection Using Cross-Validation <a id=\"feat\"></a>\n",
    "\n",
    "By taking a few PCA components instead of all voxels, a form of feature selection is being performed. Feature selection is used to reduce noise and increase computational speed. A problem with the approach above is that feature selection is applied to all data (prior to division into training and test sets) and is thus a kind of double dipping.\n",
    "\n",
    "A better way to select features is during cross-validation. In this case, feature selection is only performed on the training set, and the same features are used on the test data. This way the classifier never sees the test data during training.\n",
    "\n",
    "We will perform feature selection during cross-validation in this section. \n"
   ]
  },
  {
   "cell_type": "markdown",
   "metadata": {},
   "source": [
    "\n",
    "### 4.1 Pipelines: Feature selection with cross-validation  <a id=\"pipeline\"></a>\n",
    "\n",
    "Below we create a pipeline using scikit learn with the following steps:\n",
    "  \n",
    ">1. Perform dimensionality reduction.  \n",
    ">2. Run an SVM.\n",
    "\n",
    "To do this systematically during cross-validation, we will embed `Pipeline` in the `cross_validate` method in scikit-learn."
   ]
  },
  {
   "cell_type": "code",
   "execution_count": 24,
   "metadata": {},
   "outputs": [
    {
     "name": "stdout",
     "output_type": "stream",
     "text": [
      "{'fit_time': array([0.5044291 , 0.49418616, 0.532938  ]), 'score_time': array([0.01365495, 0.01562595, 0.01435637]), 'test_score': array([0.6       , 0.66666667, 0.66666667]), 'train_score': array([1., 1., 1.])}\n",
      "Average Testing Accuracy: 0.64\n"
     ]
    }
   ],
   "source": [
    "# Set up the pipeline\n",
    "pipe = Pipeline([\n",
    "    ('reduce_dim', PCA(n_components=14)),\n",
    "    ('classify', SVC(kernel=\"linear\", C=1)),\n",
    "])\n",
    "\n",
    "# Run the pipeline with cross-validation\n",
    "ps = PredefinedSplit(run_ids) # Provides train/test indices to split data in train/test sets\n",
    "clf_pipe = cross_validate(\n",
    "    pipe,bold_normalized,labels,cv=ps,\n",
    "    return_train_score=True\n",
    ")\n",
    "\n",
    "# Print results from this dimensionality reduction technique\n",
    "print(clf_pipe)\n",
    "print (\"Average Testing Accuracy: %0.2f\" % (np.mean(clf_pipe['test_score'])))"
   ]
  },
  {
   "cell_type": "markdown",
   "metadata": {},
   "source": [
    "**Result:** Using a pipeline with dimensionality reduction and cross-validation embedded with 14 components the accuracy of the classifier is approximately 65%. \n"
   ]
  },
  {
   "cell_type": "markdown",
   "metadata": {},
   "source": [
    "### 4.2 Feature Selection: Univariate <a id=\"univariate\"></a>\n",
    "\n",
    "We can also use a variety of univariate methods to do feature selection in scikit-learn. One commonly used technique is to compute an ANOVA on the data and pick voxels with large F values. The F value measures the ratio of the variance between conditions (signal) to the variance within condition (noise). "
   ]
  },
  {
   "cell_type": "markdown",
   "metadata": {},
   "source": [
    "Implement the pipeline using ANOVA F-value (imported as `f_classif`) and the [`SelectKBest` method](http://scikit-learn.org/stable/modules/feature_selection.html#univariate-feature-selection) pick the top 100 voxels with the highest F values."
   ]
  },
  {
   "cell_type": "code",
   "execution_count": 25,
   "metadata": {},
   "outputs": [
    {
     "name": "stdout",
     "output_type": "stream",
     "text": [
      "{'fit_time': array([0.16581917, 0.11724329, 0.11866498]), 'score_time': array([0.0217979 , 0.02082467, 0.02162695]), 'test_score': array([1., 1., 1.]), 'train_score': array([1., 1., 1.])}\n",
      "Average Testing Accuracy: 1.00\n"
     ]
    }
   ],
   "source": [
    "from sklearn.feature_selection import SelectKBest, chi2\n",
    "# Insert code\n",
    "pipe = Pipeline([\n",
    "    ('reduce_dim', SelectKBest(k=100)),\n",
    "    ('classify', SVC(kernel=\"linear\", C=1)),\n",
    "])\n",
    "\n",
    "# Run the pipeline with cross-validation\n",
    "ps = PredefinedSplit(run_ids) # Provides train/test indices to split data in train/test sets\n",
    "clf_pipe = cross_validate(\n",
    "    pipe,bold_normalized,labels,cv=ps,\n",
    "    return_train_score=True\n",
    ")\n",
    "\n",
    "print(clf_pipe)\n",
    "print (\"Average Testing Accuracy: %0.2f\" % (np.mean(clf_pipe['test_score'])))\n",
    "\n",
    "#selectKbest gives 98% accuracy "
   ]
  },
  {
   "cell_type": "markdown",
   "metadata": {},
   "source": [
    "**Explanation:** As can be seen in the above cell using the top 100 features with the highest F-values (SelectKBest) provides a much stronger classifier than the cross-validated PCA with 20 components. "
   ]
  },
  {
   "cell_type": "markdown",
   "metadata": {},
   "source": [
    "## Conclusion  <a id=\"conclusion\"></a>\n",
    "PCA and other dimensionality reduction/feature selection can be used on the face, scene, object recognition dataset. While the classification accuracies might be marginally lower there is a positive tradeoff with the amount of time these methods take making them viable application for larger, more complex datasets. "
   ]
  },
  {
   "cell_type": "markdown",
   "metadata": {},
   "source": [
    "## Contributions <a id=\"contributions\"></a>\n",
    "\n",
    "M. Kumar, C. Ellis and N. Turk-Browne produced the initial notebook  02/2018  \n",
    "T. Meissner minor edits and added the ICA section  \n",
    "Q. Lu revise PCA plots, cb colors, code style improvement, leverage exisiting funcs  \n",
    "H. Zhang added pipeline section, use blockwise normalized data, other edits  \n",
    "M. Kumar enhanced section introductions.  \n",
    "K.A. Norman provided suggestions on the overall content and made edits to this notebook.  \n",
    "C. Ellis implemented comments from cmhn-s19"
   ]
  }
 ],
 "metadata": {
  "anaconda-cloud": {},
  "kernelspec": {
   "display_name": "Python 3",
   "language": "python",
   "name": "python3"
  },
  "language_info": {
   "codemirror_mode": {
    "name": "ipython",
    "version": 3
   },
   "file_extension": ".py",
   "mimetype": "text/x-python",
   "name": "python",
   "nbconvert_exporter": "python",
   "pygments_lexer": "ipython3",
   "version": "3.6.10"
  }
 },
 "nbformat": 4,
 "nbformat_minor": 2
}
