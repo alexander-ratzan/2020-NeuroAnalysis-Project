{
 "cells": [
  {
   "cell_type": "markdown",
   "metadata": {},
   "source": [
    "# fMRI Dimensionality reduction\n",
    "[Contributions](#contributions)\n",
    "\n",
    "fMRI analysis often has a dimensionality problem: we get approximately 100,000 voxels (features) per volume, but only 100s of time points or trials (examples). This makes it very hard for machine learning algorithms to model how each voxel contributes. This problem is dubbed the curse of dimentsionality.\n",
    "\n",
    "In this notebook we are going to explore several methods to reduce the dimensionality of complex fMRI data. \n",
    "\n",
    "## Goal of this script\n",
    "1. Learn to compute the covariance of a dataset.  \n",
    "2. Reduce the feature space using principal component analysis (PCA).  \n",
    "3. Interpret the meaning of PCA components.  \n",
    "4. Perform feature selection using cross-validation.  \n",
    "\n",
    "## Table of Contents\n",
    "[1. Load the data](#load-data)  \n",
    "\n",
    "[2. Covariance](#covariance)  \n",
    "\n",
    "[3. PCA](#pca)  \n",
    ">[3.1 Plot PCA](#plot_pca)  \n",
    ">[3.2 Scree Plots](#scree)  \n",
    ">[3.3 Interpreting Components](#cog-relevance)  \n",
    ">[3.4 Normalization](#pca-norm)  \n",
    ">[3.5  PCA dimensionality reduction and classification](#wb-pca-class)  \n",
    "\n",
    "[4. Feature Selection](#feat)  \n",
    ">[4.1 Feature Selection: Pipelines](#pipeline)  \n",
    ">[4.2 Feature Selection: Univariate](#univariate)   \n",
    "\n",
    "Exercises\n",
    ">[Exercise 1](#ex1)  [2](#ex2)  [3](#ex3)  [4](#ex4)  [5](#ex5)  [6](#ex6)  [7](#ex7)  [8](#ex8)   [9](#ex9)\n"
   ]
  },
  {
   "cell_type": "markdown",
   "metadata": {},
   "source": [
    "**Dataset:** For this script we will use a localizer dataset from [Kim et al. (2017)](https://doi.org/10.1523/JNEUROSCI.3272-16.2017). \n",
    "\n",
    "The localizer consisted of 3 runs with 5 blocks of each category (faces, scenes and objects) per run. Each block was presented for 15s. Within a block, a stimulus was presented every 1.5s (1 TR). Between blocks, there was 15s (10 TRs) of fixation. Each run was 310 TRs. In the matlab stimulus file, the first row codes for the stimulus category for each trial (1 = Faces, 2 = Scenes, 3 = Objects). The 3rd row contains the time (in seconds, relative to the start of the run) when the stimulus was presented for each trial.\n"
   ]
  },
  {
   "cell_type": "code",
   "execution_count": 1,
   "metadata": {},
   "outputs": [
    {
     "data": {
      "application/javascript": [
       "IPython.notebook.set_autosave_interval(5000)"
      ]
     },
     "metadata": {},
     "output_type": "display_data"
    },
    {
     "name": "stdout",
     "output_type": "stream",
     "text": [
      "Autosaving every 5 seconds\n"
     ]
    }
   ],
   "source": [
    "import warnings\n",
    "import sys\n",
    "if not sys.warnoptions:\n",
    "    warnings.simplefilter('ignore')\n",
    "\n",
    "# Import neuroimaging, analysis and general libraries\n",
    "import numpy as np\n",
    "from time import time\n",
    "import pandas as pd\n",
    "\n",
    "# Import plotting libraries\n",
    "import matplotlib.pyplot as plt\n",
    "import seaborn as sns\n",
    "\n",
    "# Machine learning libraries\n",
    "from sklearn.model_selection import cross_val_score, cross_validate, PredefinedSplit\n",
    "from sklearn.svm import SVC\n",
    "from sklearn.decomposition import PCA\n",
    "from sklearn.feature_selection import SelectKBest, RFECV, f_classif\n",
    "from sklearn.pipeline import Pipeline\n",
    "\n",
    "%matplotlib inline\n",
    "%autosave 5\n",
    "sns.set(style = 'white', context='poster', rc={'lines.linewidth': 2.5})\n",
    "sns.set(palette=\"colorblind\")"
   ]
  },
  {
   "cell_type": "code",
   "execution_count": 2,
   "metadata": {},
   "outputs": [
    {
     "name": "stdout",
     "output_type": "stream",
     "text": [
      "Here're some constants, which is specific for VDC data:\n",
      "data dir = /Users/aratzan/Downloads/brainiak_datasets/vdc\n",
      "ROIs = ['FFA', 'PPA']\n",
      "Labels = {1: 'Faces', 2: 'Scenes', 3: 'Objects'}\n",
      "number of runs = 3\n",
      "1 TR = 1.50 sec\n",
      "HRF lag = 4.50 sec\n",
      "num TRs per run = 310\n"
     ]
    }
   ],
   "source": [
    "# load some helper functions\n",
    "from utils import load_labels, load_data, blockwise_sampling, label2TR, shift_timing, reshape_data\n",
    "from utils import normalize, decode\n",
    "# load some constants\n",
    "from utils import vdc_data_dir, vdc_all_ROIs, vdc_label_dict, vdc_n_runs, vdc_hrf_lag, vdc_TR, vdc_TRs_run\n",
    "\n",
    "print('Here\\'re some constants, which is specific for VDC data:')\n",
    "print('data dir = %s' % (vdc_data_dir))\n",
    "print('ROIs = %s' % (vdc_all_ROIs))\n",
    "print('Labels = %s' % (vdc_label_dict))\n",
    "print('number of runs = %s' % (vdc_n_runs))\n",
    "print('1 TR = %.2f sec' % (vdc_TR))\n",
    "print('HRF lag = %.2f sec' % (vdc_hrf_lag))\n",
    "print('num TRs per run = %d' % (vdc_TRs_run))"
   ]
  },
  {
   "cell_type": "markdown",
   "metadata": {},
   "source": [
    "## 1. Load the data <a id=\"load-data\"></a>\n",
    "\n",
    "Load the data for one participant using helper functions."
   ]
  },
  {
   "cell_type": "code",
   "execution_count": 3,
   "metadata": {},
   "outputs": [],
   "source": [
    "sub_id = 1\n",
    "mask_name = '' \n",
    "# This is set in order to reduce memory demands in order to run within 4Gb, however, if you want to make this run on whole brain, then set this to ''"
   ]
  },
  {
   "cell_type": "code",
   "execution_count": 4,
   "metadata": {},
   "outputs": [
    {
     "name": "stdout",
     "output_type": "stream",
     "text": [
      "Loaded  sub-01\n",
      "Processing Start ...\n",
      "Loading data from /Users/aratzan/Downloads/brainiak_datasets/vdc/sub-01/preprocessed/loc/sub-01_filtered2_d1_firstExampleFunc_r1.nii\n",
      "Loading data from /Users/aratzan/Downloads/brainiak_datasets/vdc/sub-01/preprocessed/loc/sub-01_filtered2_d1_firstExampleFunc_r2.nii\n",
      "Loading data from /Users/aratzan/Downloads/brainiak_datasets/vdc/sub-01/preprocessed/loc/sub-01_filtered2_d1_firstExampleFunc_r3.nii\n",
      "sub-01 = TRs:  930 ; Voxels:  177314\n",
      "Expected blocks: 45; Resampled blocks: 45\n"
     ]
    }
   ],
   "source": [
    "# Specify the subject name\n",
    "sub = 'sub-%.2d' % (sub_id)\n",
    "# Convert the shift into TRs\n",
    "shift_size = int(vdc_hrf_lag / vdc_TR)  \n",
    "\n",
    "# Load subject labels\n",
    "stim_label_allruns = load_labels(vdc_data_dir, sub)\n",
    "\n",
    "# Load run_ids\n",
    "run_ids_raw = stim_label_allruns[5,:] - 1 \n",
    "\n",
    "# Load the fMRI data using a mask\n",
    "epi_mask_data_all = load_data(vdc_data_dir, sub, mask_name=mask_name)[0]\n",
    "\n",
    "# This can differ per participant\n",
    "print(sub, '= TRs: ', epi_mask_data_all.shape[1], '; Voxels: ', epi_mask_data_all.shape[0])\n",
    "TRs_run = int(epi_mask_data_all.shape[1] / vdc_n_runs)\n",
    "\n",
    "# Convert the timing into TR indexes\n",
    "stim_label_TR = label2TR(stim_label_allruns, vdc_n_runs, vdc_TR, TRs_run)\n",
    "\n",
    "# Shift the data some amount\n",
    "stim_label_TR_shifted = shift_timing(stim_label_TR, shift_size)\n",
    "\n",
    "# Perform the reshaping of the data\n",
    "bold_data_raw, labels_raw = reshape_data(stim_label_TR_shifted, epi_mask_data_all)\n",
    "\n",
    "# Normalize raw data within each run\n",
    "bold_normalized_raw = normalize(bold_data_raw, run_ids_raw)\n",
    "\n",
    "# Down sample the data to be blockwise rather than trialwise. \n",
    "#We'll use the blockwise data for all the \n",
    "bold_data, labels, run_ids = blockwise_sampling(bold_data_raw, labels_raw, run_ids_raw)\n",
    "\n",
    "# Normalize blockwise data within each run\n",
    "bold_normalized = normalize(bold_data, run_ids)"
   ]
  },
  {
   "cell_type": "markdown",
   "metadata": {},
   "source": [
    "<div class=\"alert alert-block alert-info\">\n",
    "<strong>Block Averaging</strong>\n",
    "<br>\n",
    "Previously, we have been using data from each trial. Within each block, the voxel activity is correlated across trials. Thus, it is common (and probably better) to take the average value of the activity within a block as your observation in decoding analyses in order to avoid concerns about non-independence. Mean values of activity or beta coefficients (from GLM) are commonly used in the literature.\n",
    "</div>"
   ]
  },
  {
   "cell_type": "markdown",
   "metadata": {},
   "source": [
    "**Self-study:** We introduce a simple kind of debugging here, as we print both the number of expected and resampled blocks (resampled refers to the conversion from trialwise data to blockwise data). Thus, if something went wrong, we would be able to spot it the output. Learn about more ways of debugging your code by using assertions [here](https://wiki.python.org/moin/UsingAssertionsEffectively)."
   ]
  },
  {
   "cell_type": "markdown",
   "metadata": {},
   "source": [
    "## 2. Covariance <a id=\"covariance\"></a>\n",
    "\n",
    "As a precursor to understanding dimensionality reduction techniques, we need to learn how to compute the covariance matrix because it is often used in these methods.  \n",
    "\n",
    "By default, we used an FFA mask to reduce the memory demands in this notebook, but if possible we recommend that you use no mask in order to grapple with the memory issues of working with wholebrain data. There are nearly 1 million voxels in every volume we acquire, of which about 15% are in the brain. The data matrix of >100,000 voxels and <1000 time points is very large, making any computations on all of this data very intensive."
   ]
  },
  {
   "cell_type": "markdown",
   "metadata": {},
   "source": [
    "The covariance of two variables is calculated as follows: $$ Cov(X,Y) = \\frac{\\sum_{1}^{N}(X-\\bar{X})(Y-\\bar{Y})}{(N-1)}$$\n",
    "where $\\mbox{  }  \\bar{X} = mean(X), \\mbox{  } \\bar{Y} = mean(Y), \\mbox{  } N = \\mbox{number of samples } $\n",
    "\n",
    "In fMRI, X and Y could be time-series data for two voxels (two columns in our time by voxels data matrix) or the pattern across voxels for two different time points (two rows in the data matrix). The choice of vectors depends on the application.\n",
    "\n",
    "**Exercise 1:** <a id=\"ex1\"></a> Compute the covariance between two blocks (i.e., their averaged patterns across voxels). The steps to do this are outlined below. You could just use a function but we want you to code the individual steps as described (refer [here]( https://docs.scipy.org/doc/numpy-1.13.0/reference/generated/numpy.cov.html) for additional help)\n"
   ]
  },
  {
   "cell_type": "code",
   "execution_count": 29,
   "metadata": {},
   "outputs": [
    {
     "name": "stdout",
     "output_type": "stream",
     "text": [
      "(45, 5519)\n",
      "-2.5748966688171777e-18 1.029958667526871e-17\n",
      "[[0.66172559 0.02731429]\n",
      " [0.02731429 0.7916743 ]]\n"
     ]
    }
   ],
   "source": [
    "# Enter your code here\n",
    "\n",
    "# Compute the mean of one row of the block-averaged bold data called: X\n",
    "print(bold_normalized.shape)\n",
    "X = bold_normalized[2]\n",
    "mu_X = np.mean(X)\n",
    "\n",
    "# Compute the mean of any other row of the block-averaged bold data called: Y\n",
    "Y = bold_normalized[3]\n",
    "mu_Y = np.mean(Y)\n",
    "\n",
    "print(mu_X, mu_Y)\n",
    "# Compute the differences of individual voxel values in these rows from the corresponding mean for X or Y.\n",
    "Y = Y - mu_Y\n",
    "X = X - mu_X\n",
    "\n",
    "# Compute the pointwise product of the difference vectors across the two rows.\n",
    "cov = np.sum(np.multiply(X, Y))\n",
    "\n",
    "# Sum over the products of the differences.\n",
    "cov = cov/(len(X) - 1)\n",
    "\n",
    "\n",
    "# Complete the covariance calculation with these values.\n",
    "\n",
    "# Compare your result to the answer obtained with np.cov(X,Y)\n",
    "print(np.cov(X, Y))\n"
   ]
  },
  {
   "cell_type": "markdown",
   "metadata": {},
   "source": [
    "Covariance is dependent on the unit and scale of the measurement. Its value is thus not easily interpretable or comparable across datasets -- e.g. is there a strong relationship between X and Y if the covariance is 200 as compared to 2 or 2000?\n",
    "\n",
    "Correlation solves this problem by normalizing the range of the covariance from -1 to +1.\n",
    "\n",
    "$$ Corr(X,Y) = \\frac{Cov(X,Y)}{\\sqrt{\\frac{\\sum_{1}^{N}(X-\\bar{X})^2}{(N-1)}}\\sqrt{\\frac{\\sum_{1}^{N}(Y-\\bar{Y})^2}{(N-1)}}}$$\n",
    "\n",
    "**Exercise 2:** <a id=\"ex2\"></a> Compute the correlation between all pairs of blocks manually (one pair at a time) and compare the result with a numpy function that calculates the block-by-block correlation matrix in one step."
   ]
  },
  {
   "cell_type": "code",
   "execution_count": 40,
   "metadata": {},
   "outputs": [
    {
     "name": "stdout",
     "output_type": "stream",
     "text": [
      "0.03773789201678888\n",
      "[[ 1.         -0.04658815 -0.0390091  ... -0.08425517 -0.05602055\n",
      "   0.09557513]\n",
      " [-0.04658815  1.         -0.05508061 ...  0.01852038 -0.10863282\n",
      "   0.07783476]\n",
      " [-0.0390091  -0.05508061  1.         ... -0.00984471  0.01088297\n",
      "   0.03474154]\n",
      " ...\n",
      " [-0.08425517  0.01852038 -0.00984471 ...  1.         -0.2796671\n",
      "  -0.13042195]\n",
      " [-0.05602055 -0.10863282  0.01088297 ... -0.2796671   1.\n",
      "  -0.28231806]\n",
      " [ 0.09557513  0.07783476  0.03474154 ... -0.13042195 -0.28231806\n",
      "   1.        ]]\n"
     ]
    }
   ],
   "source": [
    "# Compute the correlation manually\n",
    "X = (X - X.mean(axis=0)) / X.std(axis=0)\n",
    "Y = (Y - Y.mean(axis=0)) / Y.std(axis=0)\n",
    "pearson_r = np.dot(X.T, Y) / X.shape[0]\n",
    "\n",
    "print(pearson_r)\n",
    "# Now with a function   \n",
    "print(np.corrcoef(bold_normalized))"
   ]
  },
  {
   "cell_type": "markdown",
   "metadata": {},
   "source": [
    "**Exercise 3**: <a id=\"ex3\"></a> Now compute the covariance between time-series across pairs of voxels (using the np.cov). Perform this compution on a group of 100 voxels in order to make a voxel-by-voxel covariance matrix in one step (no `for` loops allowed). Make sure the output is the correct shape (100, 100).  "
   ]
  },
  {
   "cell_type": "code",
   "execution_count": 43,
   "metadata": {},
   "outputs": [
    {
     "name": "stdout",
     "output_type": "stream",
     "text": [
      "(45, 45)\n"
     ]
    }
   ],
   "source": [
    "# Insert your code here.\n",
    "\n",
    "# Subselect 100 voxels from bold_data into a matrix.\n",
    "\n",
    "# Use np.cov() to compute the covariance of this matrix.\n",
    "\n",
    "#each voxel is a row\n",
    "#each column is a time series \n",
    "\n",
    "x = np.cov(bold_normalized[:100, :]) #all rows first 100 cols\n",
    "print(x.shape)\n",
    "\n",
    "#Not finished "
   ]
  },
  {
   "cell_type": "markdown",
   "metadata": {},
   "source": [
    "## 3. PCA <a id=\"pca\"></a>\n",
    "\n",
    "We will use principal component analysis (PCA) to **reduce the dimensionality** of the data. Some voxels may contain correlated information or no information and so the original voxel-dimensional data matrix (time-by-voxels) can be projected into a lower-dimensional \"component\" matrix space (time-by-component) without losing much information.\n",
    "\n",
    "![image](https://cdn-images-1.medium.com/max/1200/1*Iri_LDMXuz2Qac-8KPeESA.png)"
   ]
  },
  {
   "cell_type": "code",
   "execution_count": 67,
   "metadata": {
    "scrolled": true
   },
   "outputs": [
    {
     "name": "stdout",
     "output_type": "stream",
     "text": [
      "[0.57242623 0.25814203 0.04070786 0.0142511  0.0111242  0.00811205\n",
      " 0.00629458 0.00566724 0.00483546 0.0041042  0.00372741 0.00370209\n",
      " 0.00316251 0.00299517 0.00296507 0.00279822 0.00268345 0.00264521\n",
      " 0.00259197 0.00254133]\n",
      "Original data shape: (45, 5519)\n",
      "PCA data shape: (45, 20)\n"
     ]
    }
   ],
   "source": [
    "# We now use the PCA function in scikit-learn to reduce the dimensionality of the data\n",
    "# The number of components was chosen arbitrarily.\n",
    "pca = PCA(n_components=20)\n",
    "bold_pca = pca.fit_transform(bold_data) #5519 --> 20 components\n",
    "var= pca.explained_variance_ratio_\n",
    "\n",
    "print('Original data shape:', bold_data.shape)\n",
    "print('PCA data shape:', bold_pca.shape)"
   ]
  },
  {
   "cell_type": "markdown",
   "metadata": {},
   "source": [
    "### 3.1 Plot PCA <a id=\"plot_pca\"></a>\n",
    "\n",
    "Let's visualize the variance in the data along different component dimensions."
   ]
  },
  {
   "cell_type": "code",
   "execution_count": 46,
   "metadata": {},
   "outputs": [
    {
     "data": {
      "image/png": "[encoded data removed]",
      "text/plain": [
       "<Figure size 1008x252 with 4 Axes>"
      ]
     },
     "metadata": {},
     "output_type": "display_data"
    }
   ],
   "source": [
    "# Setting plotting parameter\n",
    "n_bins=75\n",
    "\n",
    "# Plot\n",
    "n_plots = 4\n",
    "components_to_plot = [0,1,2,19]\n",
    "f, axes = plt.subplots(1, n_plots, figsize=(14, 14/n_plots))\n",
    "st=f.suptitle(\"Figure 3.1. Histogram of values for each PC dimension \", fontsize=\"x-large\")\n",
    "\n",
    "for i in range(n_plots): \n",
    "    axes[i].hist(bold_pca[:, components_to_plot[i]], \n",
    "                 bins=n_bins)\n",
    "    # mark the plots \n",
    "    axes[i].set_title('PC Dimension %d'%(components_to_plot[i]+1))\n",
    "    axes[i].set_ylabel('Frequency')\n",
    "    axes[i].set_xlabel('Value')    \n",
    "    axes[i].set_xticks([])\n",
    "    axes[i].set_yticks([])    \n",
    "\n",
    "f.tight_layout()\n",
    "st.set_y(0.95)\n",
    "f.subplots_adjust(top=0.75)\n"
   ]
  },
  {
   "cell_type": "markdown",
   "metadata": {},
   "source": [
    "Let's visualize the relationship between variances across pairs of components."
   ]
  },
  {
   "cell_type": "code",
   "execution_count": 48,
   "metadata": {},
   "outputs": [
    {
     "data": {
      "image/png": "[encoded data removed]",
      "text/plain": [
       "<Figure size 1008x360 with 3 Axes>"
      ]
     },
     "metadata": {},
     "output_type": "display_data"
    }
   ],
   "source": [
    "\"\"\"\n",
    "Plot the low dim representation of the bold data\n",
    "\"\"\"\n",
    "# Setting plotting parameters\n",
    "alpha_val = .8\n",
    "cur_pals = sns.color_palette('colorblind', n_colors=vdc_n_runs)\n",
    "\n",
    "# Plot\n",
    "n_plots = 3 \n",
    "f, axes = plt.subplots(1, n_plots, figsize=(14,5))\n",
    "st=f.suptitle(\"Figure 3.2. Scatter plots comparing PCA dimensions \", fontsize=\"x-large\")\n",
    "\n",
    "# plot data\n",
    "axes[0].scatter(bold_pca[:, 0], bold_pca[:, 1], \n",
    "                alpha=alpha_val, marker='.', color = 'k')\n",
    "axes[1].scatter(bold_pca[:, 2], bold_pca[:, 3], \n",
    "                alpha=alpha_val, marker='.', color = 'k')\n",
    "axes[2].scatter(bold_pca[:, 18], bold_pca[:, 19], \n",
    "                alpha=alpha_val, marker='.', color = 'k')\n",
    "\n",
    "axes[0].set_title('PCA Dimensions\\n1 x 2')\n",
    "axes[1].set_title('PCA Dimensions\\n3 x 4')\n",
    "axes[2].set_title('PCA Dimensions\\n18 x 19')\n",
    "\n",
    "# modifications that are common to all plots \n",
    "for i in range(n_plots): \n",
    "    axes[i].axis('equal')\n",
    "    axes[i].set_xticks([])\n",
    "    axes[i].set_yticks([])\n",
    "\n",
    "f.tight_layout()\n",
    "st.set_y(0.95)\n",
    "f.subplots_adjust(top=0.75)\n"
   ]
  },
  {
   "cell_type": "markdown",
   "metadata": {},
   "source": [
    "### 3.2 Scree plots <a id=\"scree\"></a>\n",
    "\n",
    "A [\"scree\" plot](https://www.theanalysisfactor.com/factor-analysis-how-many-factors/) can depict the amount of variance in the original data that is explained by each component.\n",
    "\n",
    "**Exercise 4:** <a id=\"ex4\"></a> Make a scree plot for the PCA above. How many components would be sufficient to account for most of the variance?"
   ]
  },
  {
   "cell_type": "code",
   "execution_count": 105,
   "metadata": {},
   "outputs": [
    {
     "name": "stdout",
     "output_type": "stream",
     "text": [
      "[20. 22. 22. 21. 19. 20. 21. 21. 17. 19. 21. 20. 18. 21. 18. 22. 22. 19.\n",
      " 20. 23.]\n",
      "[0.20316959 0.07114594 0.05990929 0.04550562 0.03850991 0.03299114\n",
      " 0.03168694 0.02504028 0.02463303 0.022038   0.02069885 0.01961373\n",
      " 0.01956714 0.01885833 0.01780114 0.01696292 0.01686507 0.01648558\n",
      " 0.01598228 0.01581854]\n",
      "[-26.95574689   5.14722326  -3.41315701  -1.47211164  -2.1784059\n",
      "   8.6998626  -11.92573368 -14.52929391  -1.51494831  -1.75601427\n",
      "  -8.16476064  -5.94881816   0.51317972 -22.09439663   5.49914876\n",
      " -13.05823122 -16.31075038  14.9761098    5.12812244   8.03116366]\n"
     ]
    },
    {
     "data": {
      "text/plain": [
       "Text(0, 0.5, 'Eigenvalue')"
      ]
     },
     "execution_count": 105,
     "metadata": {},
     "output_type": "execute_result"
    },
    {
     "data": {
      "image/png": "[encoded data removed]",
      "text/plain": [
       "<Figure size 432x288 with 1 Axes>"
      ]
     },
     "metadata": {},
     "output_type": "display_data"
    }
   ],
   "source": [
    "# Plot the scree plot\n",
    "\n",
    "# eigenvalues (greater than 1) * number of factors \n",
    "\n",
    "#PCA data shape: (45, 20); 45 data points with 20 eigenvalues each \n",
    "#bold_pca\n",
    "\n",
    "eigenvalcount = np.zeros((20))\n",
    "#iterate through each PCA by row then col \n",
    "#if value is greater than 1: eigencount += 1 in array of size 20 \n",
    "for i in range(bold_pca.shape[1]): #col, 20\n",
    "    for j in range(bold_pca.shape[0]): #row, 45 \n",
    "        if bold_pca[j, i] >= 1: #if one of the \n",
    "            eigenvalcount[i] += 1\n",
    "            \n",
    "print(eigenvalcount)\n",
    "var = pca.explained_variance_ratio_ #use var instead of eignevalcount\n",
    "print(var)\n",
    "\n",
    "\n",
    "print(bold_pca[19])\n",
    "plt.plot(np.arange(0, bold_pca.shape[1]), var, 'ro-', linewidth=2)\n",
    "plt.title('Scree Plot')\n",
    "plt.xlabel('Principal Component')\n",
    "plt.ylabel('Eigenvalue')"
   ]
  },
  {
   "cell_type": "markdown",
   "metadata": {},
   "source": [
    "**A:**"
   ]
  },
  {
   "cell_type": "markdown",
   "metadata": {},
   "source": [
    "### 3.3 Interpreting Components  <a id=\"cog-relevance\"></a>\n",
    "\n",
    "From the previous plot of the first and second PCA dimension, you can see you have three clusters. You might assume that they correspond to faces, scenes, and objects."
   ]
  },
  {
   "cell_type": "markdown",
   "metadata": {},
   "source": [
    "**Exercise 5:**  <a id=\"ex5\"></a>Determine what the three clusters correspond to. First, create a new scatter plot of these two components and mark (e.g., in different symbols or colors) each point on the plot by visual category. Then, create a second scatter plot with points labeled in a way that better corresponds to the clusters (complete this exercise before reading further). (Hint: What else was there three of?)"
   ]
  },
  {
   "cell_type": "code",
   "execution_count": 93,
   "metadata": {},
   "outputs": [
    {
     "data": {
      "image/png": "[encoded data removed]",
      "text/plain": [
       "<Figure size 432x288 with 1 Axes>"
      ]
     },
     "metadata": {},
     "output_type": "display_data"
    },
    {
     "name": "stdout",
     "output_type": "stream",
     "text": [
      "(45, 20)\n",
      "[2. 2. 2. 3. 1. 1. 3. 1. 3. 1. 3. 2. 1. 3. 2. 2. 2. 3. 1. 3. 1. 3. 1. 3.\n",
      " 2. 3. 2. 1. 1. 2. 1. 2. 3. 3. 2. 3. 1. 2. 1. 3. 1. 2. 3. 1. 2.]\n"
     ]
    }
   ],
   "source": [
    "# Put answer\n",
    "\"\"\"\n",
    "Plot the low dim representation of the bold data\n",
    "\"\"\"\n",
    "from matplotlib  import cm\n",
    "\n",
    "# Setting plotting parameters\n",
    "alpha_val = .8\n",
    "cur_pals = sns.color_palette('colorblind', n_colors=vdc_n_runs)\n",
    "\n",
    "# split bold_pca into labels\n",
    "# plot data\n",
    "\n",
    "#plot pca vals of each run with different color based on their label \n",
    "#PCA 1 and 2 for all rows \n",
    "\n",
    "#figure out how to separate scatters by label \n",
    "for i in range(len(labels)):\n",
    "    if labels[i] == 1: \n",
    "        plt.scatter(bold_pca[i, 0], bold_pca[i, 1],\n",
    "                alpha=alpha_val, marker='.', color = 'k')\n",
    "    elif labels[i] == 2:\n",
    "        plt.scatter(bold_pca[i, 0], bold_pca[i, 1],\n",
    "                alpha=alpha_val, marker='.', color = 'y')\n",
    "    else:\n",
    "        plt.scatter(bold_pca[i, 0], bold_pca[i, 1],\n",
    "                alpha=alpha_val, marker='.', color = 'r')\n",
    "\n",
    "#identify plot by visual category \n",
    "#each row is a block of fMRI data \n",
    "plt.show()\n",
    "\n",
    "print(bold_pca.shape) #each row represents... and each col is Principal component\n",
    "print(labels)\n",
    "  \n",
    "#illustrates they do not correspond to labels"
   ]
  },
  {
   "cell_type": "code",
   "execution_count": 102,
   "metadata": {},
   "outputs": [
    {
     "name": "stdout",
     "output_type": "stream",
     "text": [
      "15\n",
      "30\n",
      "45\n"
     ]
    },
    {
     "data": {
      "image/png": "[encoded data removed]",
      "text/plain": [
       "<Figure size 432x288 with 1 Axes>"
      ]
     },
     "metadata": {},
     "output_type": "display_data"
    },
    {
     "name": "stdout",
     "output_type": "stream",
     "text": [
      "(45, 20)\n",
      "[2. 2. 2. 3. 1. 1. 3. 1. 3. 1. 3. 2. 1. 3. 2. 2. 2. 3. 1. 3. 1. 3. 1. 3.\n",
      " 2. 3. 2. 1. 1. 2. 1. 2. 3. 3. 2. 3. 1. 2. 1. 3. 1. 2. 3. 1. 2.]\n",
      "[0. 0. 0. 0. 0. 0. 0. 0. 0. 0. 0. 0. 0. 0. 0. 1. 1. 1. 1. 1. 1. 1. 1. 1.\n",
      " 1. 1. 1. 1. 1. 1. 2. 2. 2. 2. 2. 2. 2. 2. 2. 2. 2. 2. 2. 2. 2.]\n"
     ]
    }
   ],
   "source": [
    "alpha_val = .8\n",
    "cur_pals = sns.color_palette('colorblind', n_colors=vdc_n_runs)\n",
    "\n",
    "# split bold_pca into labels\n",
    "# plot data\n",
    "\n",
    "#plot pca vals of each run with different color based on their label \n",
    "#PCA 1 and 2 for all rows \n",
    "\n",
    "#figure out how to separate scatters by label \n",
    "i = 0\n",
    "while i < len(run_ids):\n",
    "    i+=15\n",
    "    color = 'k'\n",
    "    print(i)\n",
    "    if i > 30:\n",
    "        color = 'b'\n",
    "    elif i > 15:\n",
    "        color = 'y'\n",
    "    plt.scatter(bold_pca[i-15:i, 0], bold_pca[i-15:i, 1], alpha=alpha_val, marker='.', color = color)\n",
    "    \n",
    "\n",
    "#identify plot by visual category \n",
    "#each row is a block of fMRI data \n",
    "plt.show()\n",
    "\n",
    "print(bold_pca.shape) #each row represents... and each col is Principal component\n",
    "print(labels)\n",
    "print(run_ids)\n",
    "\n",
    "#split up by run, likely shows that runs were not all metrically equal "
   ]
  },
  {
   "cell_type": "markdown",
   "metadata": {},
   "source": [
    "### 3.4 Normalization <a id=\"pca-norm\"></a>\n",
    "\n",
    "We ran the PCA analysis without normalizing the data.\n",
    "\n",
    "**Exercise 6:**<a id=\"ex6\"></a> Using the variable `bold_normalized` re-compute the PCA (components=20). Plot the results with a scatter plot like **Figure 3.2**. What was the effect of normalization and why is this useful?"
   ]
  },
  {
   "cell_type": "code",
   "execution_count": 110,
   "metadata": {},
   "outputs": [
    {
     "name": "stdout",
     "output_type": "stream",
     "text": [
      "[0.20316959 0.07114595 0.05990928 0.04550571 0.03851036 0.03299376\n",
      " 0.03168607 0.02505144 0.02462685 0.02203663 0.02068043 0.01973379\n",
      " 0.01958364 0.01882544 0.0177979  0.01729564 0.01684857 0.01626129\n",
      " 0.01603316 0.01578578]\n",
      "[-26.9557313    5.14469667  -3.40502287  -1.45163807  -2.24171267\n",
      "   8.67699244 -11.76387528 -14.13086351  -2.15070734  -1.48723014\n",
      "  -9.15201304  -0.24771698  -2.13623437 -19.67905974   5.47865976\n",
      "   5.9022323    3.07502515  10.86133878 -16.9972772    6.41188986]\n"
     ]
    },
    {
     "data": {
      "text/plain": [
       "Text(0, 0.5, 'Eigenvalue')"
      ]
     },
     "execution_count": 110,
     "metadata": {},
     "output_type": "execute_result"
    },
    {
     "data": {
      "image/png": "[encoded data removed]",
      "text/plain": [
       "<Figure size 432x288 with 1 Axes>"
      ]
     },
     "metadata": {},
     "output_type": "display_data"
    }
   ],
   "source": [
    "# Insert code here\n",
    "\n",
    "pca = PCA(n_components=20)\n",
    "bold_pca = pca.fit_transform(bold_normalized)\n",
    "\n",
    "eigenvalcount = np.zeros((20))\n",
    "#iterate through each PCA by row then col \n",
    "#if value is greater than 1: eigencount += 1 in array of size 20 \n",
    "for i in range(bold_pca.shape[1]): #col, 20\n",
    "    for j in range(bold_pca.shape[0]): #row, 45 \n",
    "        if bold_pca[j, i] >= 1: #if one of the \n",
    "            eigenvalcount[i] += 1\n",
    "\n",
    "\n",
    "var = pca.explained_variance_ratio_ #use var instead of eignevalcount\n",
    "print(var)\n",
    "\n",
    "print(bold_pca[19])\n",
    "plt.plot(np.arange(0, bold_pca.shape[1]), var, 'ro-', linewidth=2)\n",
    "plt.title('Scree Plot')\n",
    "plt.xlabel('Principal Component')\n",
    "plt.ylabel('Eigenvalue')\n"
   ]
  },
  {
   "cell_type": "markdown",
   "metadata": {},
   "source": [
    "### 3.5 PCA dimensionality reduction and classification <a id=\"wb-pca-class\"></a>\n",
    "As mentioned earlier, we use PCA to reduce the dimensionality of the data and thus minimize the 'curse of dimensionality'. Below we explore how PCA affects classification accuracy."
   ]
  },
  {
   "cell_type": "code",
   "execution_count": 111,
   "metadata": {},
   "outputs": [
    {
     "name": "stdout",
     "output_type": "stream",
     "text": [
      "Baseline classification\n",
      "Original size:  (45, 5519)\n",
      "Accuracy:  [0.8666666666666667, 1.0, 1.0]\n",
      "Run time: 0.0491s\n"
     ]
    }
   ],
   "source": [
    "# Run a basic n-fold classification\n",
    "\n",
    "# Get baseline, whole-brain decoding accuracy without PCA\n",
    "print('Baseline classification')\n",
    "print('Original size: ', bold_normalized.shape)\n",
    "svc = SVC(kernel=\"linear\", C=1)\n",
    "\n",
    "start = time()\n",
    "models, scores = decode(bold_normalized, labels, run_ids, svc)\n",
    "end = time()\n",
    "print('Accuracy: ', scores)\n",
    "print('Run time: %0.4fs' %(end - start))"
   ]
  },
  {
   "cell_type": "code",
   "execution_count": 112,
   "metadata": {},
   "outputs": [
    {
     "name": "stdout",
     "output_type": "stream",
     "text": [
      "PCA (c=20) classification\n",
      "New size after PCA:  (45, 20)\n",
      "Accuracy:  [0.9333333333333333, 1.0, 1.0]\n",
      "Run time: 0.0049s\n"
     ]
    }
   ],
   "source": [
    "# Run the classifier on data in component space \n",
    "pca = PCA(n_components=20)\n",
    "bold_pca_normalized = pca.fit_transform(bold_normalized)\n",
    "print('PCA (c=%d) classification' % bold_pca_normalized.shape[1])\n",
    "print('New size after PCA: ', bold_pca_normalized.shape)\n",
    "\n",
    "start = time()\n",
    "models_pca, scores_pca = decode(bold_pca_normalized, labels, run_ids, svc)\n",
    "end = time()\n",
    "print('Accuracy: ', scores_pca)\n",
    "print('Run time: %0.4fs' %(end - start))"
   ]
  },
  {
   "cell_type": "markdown",
   "metadata": {},
   "source": [
    "In this case PCA does not improve decoding accuracy. However, note that similar performance was achieved with 20 vs. 177,314 features, that the analysis ran 500x faster, and that the resulting model is likely to generalize better to new data (e.g., from a different subject)."
   ]
  },
  {
   "cell_type": "markdown",
   "metadata": {},
   "source": [
    "**Exercise 7:** <a id=\"ex7\"></a> We used an arbitrary number of components. How does decoding accuracy change with more or less components?"
   ]
  },
  {
   "cell_type": "code",
   "execution_count": 134,
   "metadata": {},
   "outputs": [
    {
     "name": "stdout",
     "output_type": "stream",
     "text": [
      "PCA (c=4) classification\n",
      "New size after PCA:  (45, 4)\n",
      "Accuracy:  [0.8666666666666667, 0.9333333333333333, 0.8666666666666667]\n",
      "Run time: 0.0040s\n"
     ]
    }
   ],
   "source": [
    "# Insert code\n",
    "pca = PCA(n_components=4)\n",
    "bold_pca_normalized = pca.fit_transform(bold_normalized)\n",
    "print('PCA (c=%d) classification' % bold_pca_normalized.shape[1])\n",
    "print('New size after PCA: ', bold_pca_normalized.shape)\n",
    "\n",
    "start = time()\n",
    "models_pca, scores_pca = decode(bold_pca_normalized, labels, run_ids, svc)\n",
    "end = time()\n",
    "print('Accuracy: ', scores_pca)\n",
    "print('Run time: %0.4fs' %(end - start))\n",
    "\n",
    "#fewer components can decrease accuracy \n",
    "#4 components is enough for this example "
   ]
  },
  {
   "cell_type": "markdown",
   "metadata": {},
   "source": [
    "### 3.5.1 The PCA Challenge <a id=\"pca-challenge\"></a>\n",
    "\n",
    "**Exercise 8:** <a id=\"ex7\"></a>Given that some of the early PCA dimensions may not be cognitively relevant, determine the smallest number of PCA components from which you can get the highest decoding accuracy. \n",
    "\n"
   ]
  },
  {
   "cell_type": "markdown",
   "metadata": {},
   "source": [
    "## 4. Feature selection using cross-validation <a id=\"feat\"></a>\n",
    "\n",
    "When we took a few PCA components instead of all voxels, we were performing feature selection. Feature selection is used to reduce noise and increase computational speed. However, a problem with the approach above is that feature selection is applied to all data (prior to division into training and test sets) and is thus a kind of double dipping.\n",
    "\n",
    "A better way to select features is during cross-validation. In this case, feature selection is only performed on the training set, and the same features are used on the test data. This way the classifier never sees the test data during training.\n",
    "\n",
    "<div class=\"alert alert-block alert-warning\">\n",
    "<strong>Aside:</strong>  While doing PCA on the whole dataset violates the principle of “never touch your test data during training”, researchers have sometimes used this approach, justifying it on the grounds that — while PCA is using the fMRI data from the test set — it is not peeking at the class labels from the test set, and thus it will not bias classification accuracy. Is this OK? It’s difficult to say *a priori*. It is always safer to completely avoid touching the test data during training, so you should do this if at all possible. If you aren’t sure what problems might emerge from a particular analysis method, a good check of your method is to test on random noise; when you do this, classification should not exceed chance (if it does, you have a problem…)\n",
    "</div>\n",
    "\n",
    "We will perform feature selection during cross-validation in this section. The `Pipelines` method in scikit-learn provides an easy interface to perform these steps and we will use it extensively.\n"
   ]
  },
  {
   "cell_type": "markdown",
   "metadata": {},
   "source": [
    "\n",
    "### 4.1 Pipelines: Feature selection with cross-validation  <a id=\"pipeline\"></a>\n",
    "\n",
    "The scikit-learn has a method, [Pipeline](http://scikit-learn.org/stable/modules/generated/sklearn.pipeline.Pipeline.html#sklearn.pipeline.Pipeline), that simplifies running a sequence of steps in an automated fashion. Below we create a pipeline with the following steps:\n",
    "  \n",
    ">Perform dimensionality reduction.  \n",
    ">Run an SVM.\n",
    "\n",
    "To do this systematically during cross-validation, we will embed `Pipeline` in the `cross_validate` method in scikit-learn.\n",
    "\n",
    "The steps below are based on [this example in scikit-learn](http://scikit-learn.org/stable/auto_examples/plot_compare_reduction.html#illustration-of-pipeline-and-gridsearchcv)."
   ]
  },
  {
   "cell_type": "code",
   "execution_count": 137,
   "metadata": {},
   "outputs": [
    {
     "name": "stdout",
     "output_type": "stream",
     "text": [
      "{'fit_time': array([0.01020312, 0.0103929 , 0.01256609]), 'score_time': array([0.00076008, 0.00074601, 0.00078106]), 'test_score': array([0.86666667, 0.93333333, 0.93333333]), 'train_score': array([1., 1., 1.])}\n",
      "Average Testing Accuracy: 0.91\n"
     ]
    }
   ],
   "source": [
    "# Example: \n",
    "# Set up the pipeline\n",
    "pipe = Pipeline([\n",
    "    ('reduce_dim', PCA(n_components=20)),\n",
    "    ('classify', SVC(kernel=\"linear\", C=1)),\n",
    "])\n",
    "\n",
    "# Run the pipeline with cross-validation\n",
    "ps = PredefinedSplit(run_ids) # Provides train/test indices to split data in train/test sets\n",
    "clf_pipe = cross_validate(\n",
    "    pipe,bold_normalized,labels,cv=ps,\n",
    "    return_train_score=True\n",
    ")\n",
    "\n",
    "# Print results from this dimensionality reduction technique\n",
    "print(clf_pipe)\n",
    "print (\"Average Testing Accuracy: %0.2f\" % (np.mean(clf_pipe['test_score'])))"
   ]
  },
  {
   "cell_type": "markdown",
   "metadata": {},
   "source": [
    "Print out the data indices that were used for training and testing. Ensure that they are different for each fold. "
   ]
  },
  {
   "cell_type": "code",
   "execution_count": 138,
   "metadata": {},
   "outputs": [
    {
     "name": "stdout",
     "output_type": "stream",
     "text": [
      "CV iteration: 0\n",
      "Train_index: \n",
      "[15 16 17 18 19 20 21 22 23 24 25 26 27 28 29 30 31 32 33 34 35 36 37 38\n",
      " 39 40 41 42 43 44]\n",
      "Test_index: \n",
      "[ 0  1  2  3  4  5  6  7  8  9 10 11 12 13 14]\n",
      "CV iteration: 1\n",
      "Train_index: \n",
      "[ 0  1  2  3  4  5  6  7  8  9 10 11 12 13 14 30 31 32 33 34 35 36 37 38\n",
      " 39 40 41 42 43 44]\n",
      "Test_index: \n",
      "[15 16 17 18 19 20 21 22 23 24 25 26 27 28 29]\n",
      "CV iteration: 2\n",
      "Train_index: \n",
      "[ 0  1  2  3  4  5  6  7  8  9 10 11 12 13 14 15 16 17 18 19 20 21 22 23\n",
      " 24 25 26 27 28 29]\n",
      "Test_index: \n",
      "[30 31 32 33 34 35 36 37 38 39 40 41 42 43 44]\n",
      "{'fit_time': array([0.01020312, 0.0103929 , 0.01256609]), 'score_time': array([0.00076008, 0.00074601, 0.00078106]), 'test_score': array([0.86666667, 0.93333333, 0.93333333]), 'train_score': array([1., 1., 1.])}\n",
      "Average Testing Accuracy: 0.91\n"
     ]
    }
   ],
   "source": [
    "# Print train/test split\n",
    "for cv_idx ,(train_index, test_index) in enumerate(ps.split(bold_normalized, labels)):\n",
    "    print('CV iteration: %s' % cv_idx)\n",
    "    print('Train_index: ')\n",
    "    print(train_index)\n",
    "    print('Test_index: ')\n",
    "    print(test_index)\n",
    "\n",
    "# Print results from this dimensionality reduction technique\n",
    "print(clf_pipe)\n",
    "print (\"Average Testing Accuracy: %0.2f\" % (np.mean(clf_pipe['test_score'])))"
   ]
  },
  {
   "cell_type": "markdown",
   "metadata": {},
   "source": [
    "### 4.2 Feature selection: Univariate <a id=\"univariate\"></a>\n",
    "\n",
    "We can also use a variety of univariate methods to do feature selection in scikit-learn. One commonly used technique is to compute an ANOVA on the data and pick voxels with large F values. The F value measures the ratio of the variance between conditions (signal) to the variance within condition (noise). You can learn more about the ANOVA here:  [ANOVA F-value](http://scikit-learn.org/stable/modules/generated/sklearn.feature_selection.f_classif.html). Note that implementing this completely different feature selection approach requires changing only one line in the pipeline, demonstrating the usefulness of this framework."
   ]
  },
  {
   "cell_type": "markdown",
   "metadata": {},
   "source": [
    "**Exercise 9:** <a id=\"ex9\"></a> Implement the pipeline using ANOVA F-value (imported as `f_classif`) and the [`SelectKBest` method](http://scikit-learn.org/stable/modules/feature_selection.html#univariate-feature-selection) pick the top 100 voxels with the highest F values."
   ]
  },
  {
   "cell_type": "code",
   "execution_count": 144,
   "metadata": {},
   "outputs": [
    {
     "name": "stdout",
     "output_type": "stream",
     "text": [
      "{'fit_time': array([0.00915718, 0.00432634, 0.00433779]), 'score_time': array([0.00101089, 0.00100398, 0.00103307]), 'test_score': array([1.        , 0.93333333, 1.        ]), 'train_score': array([1., 1., 1.])}\n",
      "Average Testing Accuracy: 0.98\n"
     ]
    }
   ],
   "source": [
    "from sklearn.feature_selection import SelectKBest, chi2\n",
    "# Insert code\n",
    "pipe = Pipeline([\n",
    "    ('reduce_dim', SelectKBest(k=100)),\n",
    "    ('classify', SVC(kernel=\"linear\", C=1)),\n",
    "])\n",
    "\n",
    "# Run the pipeline with cross-validation\n",
    "ps = PredefinedSplit(run_ids) # Provides train/test indices to split data in train/test sets\n",
    "clf_pipe = cross_validate(\n",
    "    pipe,bold_normalized,labels,cv=ps,\n",
    "    return_train_score=True\n",
    ")\n",
    "\n",
    "print(clf_pipe)\n",
    "print (\"Average Testing Accuracy: %0.2f\" % (np.mean(clf_pipe['test_score'])))\n",
    "\n",
    "#selectKbest gives 98% accuracy "
   ]
  },
  {
   "cell_type": "markdown",
   "metadata": {},
   "source": [
    "**Novel contribution:** <a id=\"novel\"></a> be creative and make one new discovery by adding an analysis, visualization, or optimization. This week we encourage you to implement a different feature selection [approach](https://scikit-learn.org/stable/modules/classes.html#module-sklearn.feature_selection)."
   ]
  },
  {
   "cell_type": "code",
   "execution_count": 148,
   "metadata": {},
   "outputs": [],
   "source": [
    "#visualize f scores (?)\n"
   ]
  },
  {
   "cell_type": "markdown",
   "metadata": {},
   "source": [
    "## Contributions <a id=\"contributions\"></a>\n",
    "\n",
    "M. Kumar, C. Ellis and N. Turk-Browne produced the initial notebook  02/2018  \n",
    "T. Meissner minor edits and added the ICA section  \n",
    "Q. Lu revise PCA plots, cb colors, code style improvement, leverage exisiting funcs  \n",
    "H. Zhang added pipeline section, use blockwise normalized data, other edits  \n",
    "M. Kumar enhanced section introductions.  \n",
    "K.A. Norman provided suggestions on the overall content and made edits to this notebook.  \n",
    "C. Ellis implemented comments from cmhn-s19"
   ]
  },
  {
   "cell_type": "code",
   "execution_count": null,
   "metadata": {},
   "outputs": [],
   "source": []
  }
 ],
 "metadata": {
  "anaconda-cloud": {},
  "kernelspec": {
   "display_name": "Python 3",
   "language": "python",
   "name": "python3"
  },
  "language_info": {
   "codemirror_mode": {
    "name": "ipython",
    "version": 3
   },
   "file_extension": ".py",
   "mimetype": "text/x-python",
   "name": "python",
   "nbconvert_exporter": "python",
   "pygments_lexer": "ipython3",
   "version": "3.6.10"
  }
 },
 "nbformat": 4,
 "nbformat_minor": 2
}
