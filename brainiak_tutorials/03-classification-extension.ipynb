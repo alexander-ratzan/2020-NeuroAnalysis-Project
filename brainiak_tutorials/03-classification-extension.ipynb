{
 "cells": [
  {
   "cell_type": "markdown",
   "metadata": {},
   "source": [
    "# Classifiers \n",
    "\n",
    "\n",
    "Extract fMRI signal (from preprocessed data), and then training and testing classifiers on the brain.\n",
    "\n",
    "\n",
    "## Goal of this script\n",
    "Using this script you will learn to use a classifier on a dataset. Specifically, we will accomplish the following:  \n",
    ">1. Assign labels to every time-point (TR) in the dataset.\n",
    ">2. Time-shift the signal to be classified, taking into consideration the delayed hemodynamic response.\n",
    ">3. Collect BOLD data for all runs into one array.\n",
    ">4. Test out a classifier (SVM) on a group of subjects with a fixed set of parameters.\n",
    ">5. Replicate the analysis that led to the modular vs. distributed processing debate.\n",
    "\n",
    "\n",
    "## Table of Contents\n",
    "[1. Loading and Normalization](#load_data)  \n",
    ">[1.1 Experiment labels](#label_data)  \n",
    ">[1.2 Plot the different conditions](#plot_boxcar)  \n",
    ">[1.3 Hemodynamic lag: Time shift the labels](#label_shift)  \n",
    ">[1.4 Load the fMRI data](#load_fmri)  \n",
    "\n",
    "[2. Classification](#classification)  \n",
    ">[2.1 Reshape data](#reshape)  \n",
    ">[2.2 Model training](#model_training)  \n",
    ">[2.3 Model testing](#model_testing)  \n",
    ">[2.4 Test across participants](#across_ppts)  \n",
    "\n",
    "[3. Modular vs Distributed Processing](#mod)\n",
    ">[3.1 Prepare data](#prep)  \n",
    ">[3.2 FFA](#mod_dist_ffa)  \n",
    ">[3.3 PPA](#mod_dist_ppa) \n",
    "\n",
    "Exercises\n",
    ">[Exercise 1](#ex1)  [2](#ex2)  [3](#ex3)   [4](#ex4)  [5](#ex5)   [6](#ex6)\n",
    "\n",
    "[Novel contribution](#novel)\n",
    "\n",
    "[Contributions](#contributions)\n",
    "\n"
   ]
  },
  {
   "cell_type": "markdown",
   "metadata": {},
   "source": [
    "**Dataset** For this script we will use the localizer dataset from [Kim et al. (2017)](https://doi.org/10.1523/JNEUROSCI.3272-16.2017) again. \n",
    "\n",
    "**General overview:** Localizer task where neural activation of participants was measured when presented with an image of a face, a scene, or an object. \n",
    "\n",
    "**Explanation:** The localizer consisted of 3 runs with 5 blocks of each category (faces, scenes and objects) per run. Each block was presented for 15s. Within a block, a stimulus was presented every 1.5s (1 TR). Between blocks, there was 15s (10 TRs) of fixation. Each run was 310 TRs. In the MATLAB stimulus file, the first row codes for the stimulus category for each trial (1 = Faces, 2 = Scenes, 3 = Objects). The 3rd row contains the time (in seconds, relative to the start of the run) when the stimulus was presented for each trial. \n"
   ]
  },
  {
   "cell_type": "code",
   "execution_count": 33,
   "metadata": {},
   "outputs": [
    {
     "data": {
      "application/javascript": [
       "IPython.notebook.set_autosave_interval(5000)"
      ]
     },
     "metadata": {},
     "output_type": "display_data"
    },
    {
     "name": "stdout",
     "output_type": "stream",
     "text": [
      "Autosaving every 5 seconds\n"
     ]
    }
   ],
   "source": [
    "import warnings\n",
    "import sys \n",
    "if not sys.warnoptions:\n",
    "    warnings.simplefilter(\"ignore\")\n",
    "import os \n",
    "import nibabel as nib\n",
    "import numpy as np\n",
    "from nilearn.input_data import NiftiMasker\n",
    "import scipy.io\n",
    "from scipy import stats\n",
    "import matplotlib.pyplot as plt\n",
    "import seaborn as sns \n",
    "\n",
    "from sklearn.svm import LinearSVC\n",
    "from sklearn.model_selection import PredefinedSplit\n",
    "from sklearn.preprocessing import StandardScaler\n",
    "from brainiak.utils.fmrisim import _double_gamma_hrf as hrf_func\n",
    "from brainiak.utils import fmrisim as sim\n",
    "\n",
    "# load some helper functions\n",
    "from utils import load_vdc_mask, load_vdc_epi_data, load_vdc_masked_data \n",
    "from utils import vdc_data_dir, vdc_all_ROIs, vdc_label_dict, vdc_n_runs, vdc_hrf_lag, vdc_TR, vdc_TRs_run # load some constants\n",
    "\n",
    "%matplotlib inline \n",
    "%autosave 5\n",
    "sns.set(style = 'white', context='poster', rc={\"lines.linewidth\": 2.5})\n",
    "sns.set(palette=\"colorblind\")"
   ]
  },
  {
   "cell_type": "code",
   "execution_count": 34,
   "metadata": {},
   "outputs": [
    {
     "name": "stdout",
     "output_type": "stream",
     "text": [
      "Here are some constants, which is specific to the VDC data:\n",
      "data dir = /Users/aratzan/Downloads/brainiak_datasets/vdc\n",
      "ROIs = ['FFA', 'PPA']\n",
      "Labels = {1: 'Faces', 2: 'Scenes', 3: 'Objects'}\n",
      "number of runs = 3\n",
      "1 TR = 1.50 sec\n",
      "HRF lag = 4.50 sec\n",
      "num TRs per run = 310\n"
     ]
    }
   ],
   "source": [
    "print('Here are some constants, which is specific to the VDC data:')\n",
    "print('data dir = %s' % (vdc_data_dir))\n",
    "print('ROIs = %s' % (vdc_all_ROIs))\n",
    "print('Labels = %s' % (vdc_label_dict))\n",
    "print('number of runs = %s' % (vdc_n_runs))\n",
    "print('1 TR = %.2f sec' % (vdc_TR))\n",
    "print('HRF lag = %.2f sec' % (vdc_hrf_lag))\n",
    "print('num TRs per run = %d' % (vdc_TRs_run))"
   ]
  },
  {
   "cell_type": "code",
   "execution_count": 35,
   "metadata": {},
   "outputs": [
    {
     "name": "stdout",
     "output_type": "stream",
     "text": [
      "1. Data structure\r\n",
      "\r\n",
      "my_dataset/\r\n",
      "├── README.txt \t\t\t\t\t\t\t# This file, Contains experimental design/task details, imaging parameters, and description of the directory structure\r\n",
      "├── DESIGN.txt \t\t\t\t\t\t\t# Descriptions of design matrixes (in design_matrix folder)\r\n",
      "├── sub-01/\t\t\t\t\t\t\t\t\r\n",
      "\t├── day1\t\t\t\t\t\t\t\t# Data of the first fMRI session (day 1)\r\n",
      "\t│   ├── anat\r\n",
      "\t│   │   ├── sub-01_fieldmap_01.nii.gz\t\t# Field map image to correct B0 inhomogeneities \r\n",
      "\t│   │   ├── sub-01_fieldmap_02.nii.gz\r\n",
      "\t│   │   ├── sub-01_t1_flash01.nii.gz\t\t# Fast Low Angle shot anatomical scan\r\n",
      "\t│   │   ├── sub-01_t1_mprage.nii.gz\t\t# raw 3-D structural image (T1-weighted magnetization prepared rapid acquisition gradient-echo image)\r\n",
      "\t│   │   ├── sub-01_t2_tse_01.nii.gz\t\t# T2-weighted turbo spin echo image for hippocampal segmentation\r\n",
      "\t│   │   └── sub-01_t2_tse_02.nii.gz\t\t\r\n",
      "\t│   └── func\r\n",
      "\t│       ├── sub-01_study_01.nii.gz\t\t\t# Raw 4-D functional image of a study phase (run 1-6)\r\n",
      "\t│       ├── sub-01_study_02.nii.gz\r\n",
      "\t│       ├── sub-01_study_03.nii.gz\r\n",
      "\t│       ├── sub-01_study_04.nii.gz\r\n",
      "\t│       ├── sub-01_study_05.nii.gz\r\n",
      "\t│       └── sub-01_study_06.nii.gz\r\n",
      "\t│   └── design_matrix\r\n",
      "\t│       ├── sub-01_study_01.txt\t\t\t# Design matrixes of study runs (1-6)\r\n",
      "\t│       ├── sub-01_study_02.txt\r\n",
      "\t│       ├── sub-01_study_03.txt\r\n",
      "\t│       ├── sub-01_study_04.txt\r\n",
      "\t│       ├── sub-01_study_05.txt\r\n",
      "\t│       └── sub-01_study_06.txt\r\n",
      "\t└── day2\r\n",
      "\t    ├── anat\r\n",
      "\t    │   ├── sub-01_fieldmap_01.nii.gz\t\t# Field map image to correct B0 inhomogeneities\r\n",
      "\t    │   ├── sub-01_fieldmap_02.nii.gz\r\n",
      "\t    │   ├── sub-01_t1_flash01.nii.gz\t\t# Fast Low Angle shot anatomical scan\r\n",
      "\t    │   └── sub-01_t1_mprage.nii.gz\t\t# raw 3-D structural image (T1-weighted magnetization prepared rapid acquisition gradient-echo image)\r\n",
      "\t    └── func\r\n",
      "\t    │   ├── sub-01_localizer_01.nii.gz\t\t# Raw 4-D functional image of a face/scene/object localizer phase (run 1-3)\r\n",
      "\t    │   ├── sub-01_localizer_02.nii.gz\r\n",
      "\t    │   ├── sub-01_localizer_03.nii.gz\r\n",
      "\t    │   ├── sub-01_post_01.nii.gz\t\t\t# Raw 4-D functional image of a post-learning phase (run 1-2)\r\n",
      "\t    │   ├── sub-01_post_02.nii.gz\r\n",
      "\t    │   ├── sub-01_test_01.nii.gz\t\t\t# Raw 4-D functional image of a memory test phase (run 1-2)\r\n",
      "\t    │   └── sub-01_test_02.nii.gz\r\n",
      "\t    └── design_matrix\t\t\t\t\t\r\n",
      "\t    │   ├── sub-01_localizer_01.txt\t\t# Design matrixes of localizer runs (1-3)\r\n",
      "\t    │   ├── sub-01_localizer_02.txt\r\n",
      "\t    │   ├── sub-01_localizer_03.txt\r\n",
      "\t    │   ├── sub-01_post_01.txt\t\t\t# Design matrixes of post-learning runs (1-2)\r\n",
      "\t    │   ├── sub-01_post_02.txt\r\n",
      "\t    │   ├── sub-01_test_01.txt\t\t\t# Design matrixes of memory test runs (1-2)\r\n",
      "\t    │   └── sub-01_test_02.txt\r\n"
     ]
    }
   ],
   "source": [
    "# Directory structure of the VDC dataset\n",
    "header_file=os.path.join(vdc_data_dir,'README.txt')\n",
    "!head -50 $header_file"
   ]
  },
  {
   "cell_type": "markdown",
   "metadata": {},
   "source": [
    "## 1. Loading and Normalization<a id=\"load_data\"></a>\n",
    "\n",
    "Load and visualize the experiment labels and then we will load the brain data."
   ]
  },
  {
   "cell_type": "markdown",
   "metadata": {},
   "source": [
    "### 1.1 Experiment labels <a id=\"label_data\"></a>"
   ]
  },
  {
   "cell_type": "code",
   "execution_count": 36,
   "metadata": {},
   "outputs": [],
   "source": [
    "sub = 'sub-01';\n",
    "\n",
    "# function for loading in the labels\n",
    "def load_vdc_stim_labels(vdc_data_dir, subject_id):\n",
    "    stim_label = [];\n",
    "    stim_label_concatenated = [];\n",
    "    for run in range(1, vdc_n_runs+1):\n",
    "        in_file = os.path.join(vdc_data_dir,subject_id,'ses-day2','design_matrix','%s_localizer_0%d.mat' % \n",
    "                               (subject_id, run))\n",
    "        # Load in data from MATLAB\n",
    "        stim_label = scipy.io.loadmat(in_file);\n",
    "        stim_label = np.array(stim_label['data']);\n",
    "\n",
    "        # Store the data\n",
    "        if run == 1:\n",
    "            stim_label_concatenated = stim_label;\n",
    "        else:       \n",
    "            stim_label_concatenated = np.hstack((stim_label_concatenated, stim_label))\n",
    "    print(\"Loaded labels for\", subject_id)\n",
    "    return stim_label_concatenated\n",
    "\n",
    "# Note: you won't see the printed \"Loaded labels for...\" until you run the function with inputs (see next step)"
   ]
  },
  {
   "cell_type": "markdown",
   "metadata": {},
   "source": [
    "We now want to call this function and get its outputs."
   ]
  },
  {
   "cell_type": "code",
   "execution_count": 37,
   "metadata": {},
   "outputs": [
    {
     "name": "stdout",
     "output_type": "stream",
     "text": [
      "Loaded labels for sub-01\n"
     ]
    }
   ],
   "source": [
    "# Load in the labels of the data\n",
    "stim_label_allruns = load_vdc_stim_labels(vdc_data_dir, sub)"
   ]
  },
  {
   "cell_type": "markdown",
   "metadata": {},
   "source": [
    "We need category labels to train a classifier for every timepoint in the fMRI data. These timepoints are referred to as TRs.\n",
    "\n",
    "This subject has 310 TRs but all others have 311 (no good reason, just a quirk of the dataset). Some TRs will not have a label since there was no stimulus presented (e.g., the fixation periods between blocks). \n",
    "\n",
    "Recall that the third row of the timing file is the start time of a trial in seconds since the start of the run. We can thus convert each time stamp to a specific TR by taking that time stamp and dividing by the TR duration (1.5 s). "
   ]
  },
  {
   "cell_type": "markdown",
   "metadata": {},
   "source": [
    "Function to return a list of category labels, one for each TR in chronological order: "
   ]
  },
  {
   "cell_type": "code",
   "execution_count": 38,
   "metadata": {},
   "outputs": [],
   "source": [
    "# Define the function\n",
    "\n",
    "def label2TR(all_stim_labels, num_runs, TR, TRs_run):\n",
    "    \n",
    "    stim_label_TR = np.zeros((TRs_run * 3, 1))\n",
    "    \n",
    "    _, events = all_stim_labels.shape\n",
    "    events_run = int(events / num_runs)\n",
    "    \n",
    "    for run in range(num_runs): #run 0, 1, 2\n",
    "    # Cycle through each element in a run\n",
    "        for i in range(events_run):\n",
    "            # What element in the concatenated timing file are we accessing\n",
    "            time_idx = run * (events_run) + i \n",
    "            \n",
    "            # What is the time stamp\n",
    "            time = all_stim_labels[2, time_idx] #row 3, col...; ends up indexing out of bounds\n",
    "\n",
    "            # What TR does this timepoint refer to?\n",
    "            TR_idx = int(time / TR) + (run * (TRs_run - 1)) #TR num\n",
    "\n",
    "            # Add the condition label to this timepoint\n",
    "            stim_label_TR[TR_idx] = all_stim_labels[0, time_idx]\n",
    "            \n",
    "    return stim_label_TR\n",
    "    \n",
    "    \n",
    "    "
   ]
  },
  {
   "cell_type": "markdown",
   "metadata": {},
   "source": [
    "Run the function and check that it works"
   ]
  },
  {
   "cell_type": "code",
   "execution_count": 39,
   "metadata": {},
   "outputs": [],
   "source": [
    "# Run function\n",
    "stim_label_TR = label2TR(stim_label_allruns, vdc_n_runs, vdc_TR, vdc_TRs_run)\n",
    "\n",
    "#labels for each TR in all runs"
   ]
  },
  {
   "cell_type": "markdown",
   "metadata": {},
   "source": [
    "###  1.3 Hemodynamic lag: Time shift the labels <a id=\"label_shift\"></a>\n",
    "\n",
    "The BOLD response that we measure with fMRI is slow to emerge after the onset of a stimulus, also known as the \"hemodynamic lag\". Below we plot the expected BOLD response to a single experimental event."
   ]
  },
  {
   "cell_type": "markdown",
   "metadata": {},
   "source": [
    "**1.3.2 Time shift the VDC labels**  \n",
    "It takes approximately 4-6s for the BOLD response to peak after an event. Hence the brain's activity does not reflect what is occuring in the world currently, but rather what occurred in the recent past. To account for the hemodynamic lag, we can shift the timecourse of labels such that they correspond in time with the future brain response they produce. First let's plot this timecourse."
   ]
  },
  {
   "cell_type": "code",
   "execution_count": 40,
   "metadata": {},
   "outputs": [
    {
     "data": {
      "text/plain": [
       "Text(0.5, 0, 'Time (seconds)')"
      ]
     },
     "execution_count": 40,
     "metadata": {},
     "output_type": "execute_result"
    },
    {
     "data": {
      "image/png": "[encoded data removed]",
      "text/plain": [
       "<Figure size 1008x360 with 1 Axes>"
      ]
     },
     "metadata": {},
     "output_type": "display_data"
    }
   ],
   "source": [
    "n_conditions = len(vdc_label_dict)\n",
    "cur_pals = sns.color_palette('colorblind', n_colors=n_conditions)\n",
    "\n",
    "# Create a sequence of timepoints that a TR occurred on\n",
    "tr_time = np.arange(0, (vdc_TRs_run - 1) * 1.5 + 1, 1.5)\n",
    "time_vals = stim_label_allruns[2, 0:150]\n",
    "labels = stim_label_allruns[0, 0:150]\n",
    "\n",
    "f, ax = plt.subplots(1,1, figsize = (14, 5))\n",
    "    \n",
    "# plot the label for each condition\n",
    "for i_cond in range(n_conditions): \n",
    "    label = list(vdc_label_dict.keys())[i_cond]\n",
    "    temp_mask = label == labels\n",
    "    ax.scatter(time_vals[temp_mask], labels[temp_mask], \n",
    "               color = cur_pals[i_cond], marker = 'o')\n",
    "ax.legend(vdc_label_dict.values())\n",
    "    \n",
    "# plot the stimuli as a line \n",
    "# ax.plot(time_vals, labels, color = 'black', alpha = .5)\n",
    "ax.plot(tr_time, stim_label_TR[0:vdc_TRs_run, 0], c='orange', alpha = .5)\n",
    "\n",
    "ax.set_yticks(list(vdc_label_dict.keys()))\n",
    "ax.set_yticklabels(vdc_label_dict.values())\n",
    "\n",
    "ax.set_title('Stimulus Presentation for Run 1')\n",
    "ax.set_xlabel('Time (seconds)')\n"
   ]
  },
  {
   "cell_type": "markdown",
   "metadata": {},
   "source": [
    "We need to incorporate this time-shift when we extract the BOLD signal for classification (so that the labels apply to the correct brain images). One way to accomplish this is to shift the labels and extract the BOLD signal for the non-zero labels. Given that one TR = 1.5 s and the typical hemodynamic lag is 4-5 s, we will shift the labels forwards by 3 TRs."
   ]
  },
  {
   "cell_type": "code",
   "execution_count": 41,
   "metadata": {},
   "outputs": [
    {
     "name": "stdout",
     "output_type": "stream",
     "text": [
      "Amount of time shift: 4.5\n"
     ]
    }
   ],
   "source": [
    "# Shift the data a certain amount\n",
    "print('Amount of time shift: %0.1f' % vdc_hrf_lag) # In seconds what is the lag between a stimulus onset and the peak bold response\n",
    "shift_size = int(vdc_hrf_lag / vdc_TR)  # Convert the shift into TRs\n",
    "\n",
    "# Create a function to shift the size\n",
    "def shift_timing(label_TR, TR_shift_size):\n",
    "    \n",
    "    # Create a short vector of extra zeros\n",
    "    zero_shift = np.zeros((TR_shift_size, 1))\n",
    "\n",
    "    # Zero pad the column from the top\n",
    "    label_TR_shifted = np.vstack((zero_shift, label_TR))\n",
    "\n",
    "    # Don't include the last rows that have been shifted out of the time line\n",
    "    label_TR_shifted = label_TR_shifted[0:label_TR.shape[0],0]\n",
    "    \n",
    "    return label_TR_shifted\n",
    "\n",
    "# Apply the function\n",
    "stim_label_TR_shifted = shift_timing(stim_label_TR, shift_size)"
   ]
  },
  {
   "cell_type": "code",
   "execution_count": 42,
   "metadata": {},
   "outputs": [
    {
     "data": {
      "text/plain": [
       "<matplotlib.legend.Legend at 0x7fa687178e48>"
      ]
     },
     "execution_count": 42,
     "metadata": {},
     "output_type": "execute_result"
    },
    {
     "data": {
      "image/png": "[encoded data removed]",
      "text/plain": [
       "<Figure size 864x360 with 1 Axes>"
      ]
     },
     "metadata": {},
     "output_type": "display_data"
    }
   ],
   "source": [
    "#boxcar plot with hemodynamic lag incorporated \n",
    "f, ax = plt.subplots(1,1, figsize = (12,5))\n",
    "ax.plot(tr_time, stim_label_TR[0:vdc_TRs_run, 0], c='blue',alpha=0.2)\n",
    "ax.plot(tr_time, stim_label_TR_shifted[0:310], c='orange')\n",
    "\n",
    "ax.set_ylabel('Stimuli labels')\n",
    "ax.set_xlabel('TR')\n",
    "\n",
    "plt.legend(['Original', 'Shifted'])"
   ]
  },
  {
   "cell_type": "markdown",
   "metadata": {},
   "source": [
    "### 1.4 Load the fMRI data<a id=\"load_fmri\"></a>\n",
    "\n",
    "Load in, mask, and z-score the fMRI data. This time we are going to load in all participants, so this may take a while."
   ]
  },
  {
   "cell_type": "code",
   "execution_count": 43,
   "metadata": {},
   "outputs": [
    {
     "name": "stdout",
     "output_type": "stream",
     "text": [
      "available ROIs:  ['FFA', 'PPA']\n"
     ]
    }
   ],
   "source": [
    "''' Regions of interests to focus on are Fusiform Face Area (FFA) and Parahippocampal Place Area (PPA)'''\n",
    "print('available ROIs: ', vdc_all_ROIs)"
   ]
  },
  {
   "cell_type": "code",
   "execution_count": 44,
   "metadata": {},
   "outputs": [
    {
     "name": "stdout",
     "output_type": "stream",
     "text": [
      "Loaded FFA mask\n",
      "Loading data from /Users/aratzan/Downloads/brainiak_datasets/vdc/sub-01/preprocessed/loc/sub-01_filtered2_d1_firstExampleFunc_r1.nii\n",
      "Loading data from /Users/aratzan/Downloads/brainiak_datasets/vdc/sub-01/preprocessed/loc/sub-01_filtered2_d1_firstExampleFunc_r2.nii\n",
      "Loading data from /Users/aratzan/Downloads/brainiak_datasets/vdc/sub-01/preprocessed/loc/sub-01_filtered2_d1_firstExampleFunc_r3.nii\n",
      "Loaded PPA mask\n",
      "Loading data from /Users/aratzan/Downloads/brainiak_datasets/vdc/sub-01/preprocessed/loc/sub-01_filtered2_d1_firstExampleFunc_r1.nii\n",
      "Loading data from /Users/aratzan/Downloads/brainiak_datasets/vdc/sub-01/preprocessed/loc/sub-01_filtered2_d1_firstExampleFunc_r2.nii\n",
      "Loading data from /Users/aratzan/Downloads/brainiak_datasets/vdc/sub-01/preprocessed/loc/sub-01_filtered2_d1_firstExampleFunc_r3.nii\n",
      "voxel by TR matrix - shape:  (5519, 930)\n",
      "label list - shape:  (930,)\n"
     ]
    }
   ],
   "source": [
    "roi_name = 'FFA'\n",
    "\n",
    "# Apply the function to pull out the mask data\n",
    "epi_mask_data_all = load_vdc_masked_data(vdc_data_dir, sub, vdc_all_ROIs)\n",
    "\n",
    "# Check the dimensionality of the data\n",
    "print('voxel by TR matrix - shape: ', epi_mask_data_all[vdc_all_ROIs.index(roi_name)].shape)\n",
    "print('label list - shape: ', stim_label_TR_shifted.shape)"
   ]
  },
  {
   "cell_type": "code",
   "execution_count": 45,
   "metadata": {},
   "outputs": [
    {
     "name": "stdout",
     "output_type": "stream",
     "text": [
      "Help on function load_vdc_masked_data in module utils:\n",
      "\n",
      "load_vdc_masked_data(directory, subject_name, mask_list)\n",
      "    # Make a function to load the mask data\n",
      "\n"
     ]
    }
   ],
   "source": [
    "#what loading the data does\n",
    "\n",
    "help(load_vdc_masked_data)"
   ]
  },
  {
   "cell_type": "markdown",
   "metadata": {},
   "source": [
    "## 2. Classification<a id=\"classification\"></a>\n",
    "\n",
    "Basic classifier to categorize data. \n",
    "\n",
    "For brain activity measured by fMRI, the voxel signals serve as the features. If we were showing pictures of faces, scenes, and objects, and collecting fMRI data while the subject was viewing the pictures, we know what picture were shown at each time-point. The stimulus type at each timepoint serves as the stimulus label. The signal from voxels at each timepoint correspond to the features of that picture. From this known set of stimulus labels and features, we can train a classifier to distinguish between pictures of faces, scenes, and objects.\n",
    "\n",
    "If the classifier makes predictions above chance (random guessing will lead to a 33.33% accuracy for 3 categories), the classifier has read out from the brain the category of the stimulus.\n",
    "\n",
    "SVM classifier, hard-coded hyperparameters"
   ]
  },
  {
   "cell_type": "markdown",
   "metadata": {},
   "source": [
    "### 2.1 Reshape data <a id=\"reshape\"></a>\n",
    "\n",
    "First, we extract the time points for which we have stimulus labels (only Faces, Places, and Objects). That is, we drop the time-points from the BOLD signal that refer to the fixation periods."
   ]
  },
  {
   "cell_type": "code",
   "execution_count": 46,
   "metadata": {},
   "outputs": [
    {
     "name": "stdout",
     "output_type": "stream",
     "text": [
      "The FFA has the dimensionality of: 450 time points by 5519 voxels\n"
     ]
    }
   ],
   "source": [
    "# Extract bold data for non-zero labels\n",
    "def reshape_data(label_TR_shifted, masked_data_all):\n",
    "    label_index = np.nonzero(label_TR_shifted)\n",
    "    label_index = np.squeeze(label_index)\n",
    "    # Pull out the indexes\n",
    "    indexed_data = np.transpose(masked_data_all[:,label_index])\n",
    "    nonzero_labels = label_TR_shifted[label_index] \n",
    "    return indexed_data, nonzero_labels #indices and corresponding labels \n",
    "\n",
    "# Pull out the data from this ROI for these time points\n",
    "roi_masked_data = epi_mask_data_all[vdc_all_ROIs.index(roi_name)]\n",
    "bold_data, labels = reshape_data(stim_label_TR_shifted, roi_masked_data) #cleans up data and labels\n",
    "\n",
    "# What is the dimensionality of the data? We need the first dim to be the same\n",
    "print('The %s has the dimensionality of: %d time points by %d voxels' % (roi_name, bold_data.shape[0], bold_data.shape[1]))"
   ]
  },
  {
   "cell_type": "markdown",
   "metadata": {},
   "source": [
    "### 2.2 Leave-One-Run-Out (LORO) training and testing  <a id=\"model_training\"></a>\n",
    "\n",
    "Perform LORO cross-validation to train and test. Can do folds of each run. \n",
    "\n",
    "**other types of cross-validation can also be used**"
   ]
  },
  {
   "cell_type": "markdown",
   "metadata": {},
   "source": [
    "#### 2.2.1. Manually create a left-out run."
   ]
  },
  {
   "cell_type": "code",
   "execution_count": 47,
   "metadata": {},
   "outputs": [
    {
     "name": "stdout",
     "output_type": "stream",
     "text": [
      "[0. 0. 0. 0. 0. 0. 0. 0. 0. 0. 0. 0. 0. 0. 0. 0. 0. 0. 0. 0. 0. 0. 0. 0.\n",
      " 0. 0. 0. 0. 0. 0. 0. 0. 0. 0. 0. 0. 0. 0. 0. 0. 0. 0. 0. 0. 0. 0. 0. 0.\n",
      " 0. 0. 0. 0. 0. 0. 0. 0. 0. 0. 0. 0. 0. 0. 0. 0. 0. 0. 0. 0. 0. 0. 0. 0.\n",
      " 0. 0. 0. 0. 0. 0. 0. 0. 0. 0. 0. 0. 0. 0. 0. 0. 0. 0. 0. 0. 0. 0. 0. 0.\n",
      " 0. 0. 0. 0. 0. 0. 0. 0. 0. 0. 0. 0. 0. 0. 0. 0. 0. 0. 0. 0. 0. 0. 0. 0.\n",
      " 0. 0. 0. 0. 0. 0. 0. 0. 0. 0. 0. 0. 0. 0. 0. 0. 0. 0. 0. 0. 0. 0. 0. 0.\n",
      " 0. 0. 0. 0. 0. 0. 1. 1. 1. 1. 1. 1. 1. 1. 1. 1. 1. 1. 1. 1. 1. 1. 1. 1.\n",
      " 1. 1. 1. 1. 1. 1. 1. 1. 1. 1. 1. 1. 1. 1. 1. 1. 1. 1. 1. 1. 1. 1. 1. 1.\n",
      " 1. 1. 1. 1. 1. 1. 1. 1. 1. 1. 1. 1. 1. 1. 1. 1. 1. 1. 1. 1. 1. 1. 1. 1.\n",
      " 1. 1. 1. 1. 1. 1. 1. 1. 1. 1. 1. 1. 1. 1. 1. 1. 1. 1. 1. 1. 1. 1. 1. 1.\n",
      " 1. 1. 1. 1. 1. 1. 1. 1. 1. 1. 1. 1. 1. 1. 1. 1. 1. 1. 1. 1. 1. 1. 1. 1.\n",
      " 1. 1. 1. 1. 1. 1. 1. 1. 1. 1. 1. 1. 1. 1. 1. 1. 1. 1. 1. 1. 1. 1. 1. 1.\n",
      " 1. 1. 1. 1. 1. 1. 1. 1. 1. 1. 1. 1. 2. 2. 2. 2. 2. 2. 2. 2. 2. 2. 2. 2.\n",
      " 2. 2. 2. 2. 2. 2. 2. 2. 2. 2. 2. 2. 2. 2. 2. 2. 2. 2. 2. 2. 2. 2. 2. 2.\n",
      " 2. 2. 2. 2. 2. 2. 2. 2. 2. 2. 2. 2. 2. 2. 2. 2. 2. 2. 2. 2. 2. 2. 2. 2.\n",
      " 2. 2. 2. 2. 2. 2. 2. 2. 2. 2. 2. 2. 2. 2. 2. 2. 2. 2. 2. 2. 2. 2. 2. 2.\n",
      " 2. 2. 2. 2. 2. 2. 2. 2. 2. 2. 2. 2. 2. 2. 2. 2. 2. 2. 2. 2. 2. 2. 2. 2.\n",
      " 2. 2. 2. 2. 2. 2. 2. 2. 2. 2. 2. 2. 2. 2. 2. 2. 2. 2. 2. 2. 2. 2. 2. 2.\n",
      " 2. 2. 2. 2. 2. 2. 2. 2. 2. 2. 2. 2. 2. 2. 2. 2. 2. 2.]\n"
     ]
    }
   ],
   "source": [
    "# Get run ids (works similarity to cv_ids)\n",
    "run_ids = stim_label_allruns[5,:] - 1 \n",
    "\n",
    "# Select a run\n",
    "holdout_run_ids = 0\n",
    "\n",
    "# Make an index list with one run left out.\n",
    "train_runs = run_ids != holdout_run_ids\n",
    "\n",
    "print(run_ids)"
   ]
  },
  {
   "cell_type": "markdown",
   "metadata": {},
   "source": [
    "**2.2.2 Normalization**\n",
    "\n",
    "Reduce variance and bias through normalization. \n"
   ]
  },
  {
   "cell_type": "code",
   "execution_count": 48,
   "metadata": {},
   "outputs": [],
   "source": [
    "def normalize(bold_data_, run_ids):\n",
    "    \"\"\"normalized the data within each run\n",
    "    \n",
    "    Parameters\n",
    "    --------------\n",
    "    bold_data_: np.array, n_stimuli x n_voxels\n",
    "    run_ids: np.array or a list\n",
    "    \n",
    "    Return\n",
    "    --------------\n",
    "    normalized_data\n",
    "    \"\"\"\n",
    "    scaler = StandardScaler()\n",
    "    data = []\n",
    "    for r in range(vdc_n_runs):\n",
    "        data.append(scaler.fit_transform(bold_data_[run_ids == r, :]))\n",
    "    normalized_data = np.vstack(data)\n",
    "    return normalized_data"
   ]
  },
  {
   "cell_type": "code",
   "execution_count": 49,
   "metadata": {},
   "outputs": [],
   "source": [
    "bold_data_normalized = normalize(bold_data, run_ids)"
   ]
  },
  {
   "cell_type": "markdown",
   "metadata": {},
   "source": [
    "### 2.3. Classifiers\n",
    "\n",
    "Use a linear [support vector machine (SVM)](https://scikit-learn.org/stable/modules/svm.html). It is one of the most commonly used classifiers in cognitive neuroscience as it is robust to low number of training samples and outliers in the data.\n"
   ]
  },
  {
   "cell_type": "code",
   "execution_count": 50,
   "metadata": {},
   "outputs": [
    {
     "name": "stdout",
     "output_type": "stream",
     "text": [
      "[[ 0.27636606 -2.34144    -1.5168508  ... -1.2768594  -0.5333573\n",
      "  -0.39660725]\n",
      " [ 1.1786194   0.6995016  -0.20767328 ...  0.8843117   0.89988357\n",
      "   1.32755   ]\n",
      " [ 0.5377398  -1.5607868  -0.5580817  ... -1.5061353  -2.6355433\n",
      "   0.1930118 ]\n",
      " ...\n",
      " [ 0.13409585 -0.15990087 -0.4277773  ... -1.4076195  -1.0346426\n",
      "  -1.6303952 ]\n",
      " [ 0.57703644 -0.15957198 -0.11492413 ... -0.11137345 -0.6525026\n",
      "  -0.40301976]\n",
      " [-1.1678511   1.3851509  -0.19576998 ... -0.7032622  -0.6667949\n",
      "  -0.21055813]]\n"
     ]
    }
   ],
   "source": [
    "# Split the training set and test set ... \n",
    "X_train = bold_data_normalized[train_runs,]\n",
    "y_train = labels[train_runs]\n",
    "#logical_not only uses holdout run\n",
    "X_test = bold_data_normalized[np.logical_not(train_runs),] \n",
    "y_test = labels[np.logical_not(train_runs)]\n",
    "\n",
    "print(X_train)"
   ]
  },
  {
   "cell_type": "markdown",
   "metadata": {},
   "source": [
    "#### 2.3.1. Build a classifier and test on the held out run.\n",
    "\n",
    "The `X_train` data was created by excluding one run. We use this to train a classifier and then test it on `X_test`, the dataset that was created from the held-out run."
   ]
  },
  {
   "cell_type": "code",
   "execution_count": 51,
   "metadata": {},
   "outputs": [
    {
     "name": "stdout",
     "output_type": "stream",
     "text": [
      "Accuracy = 0.88\n"
     ]
    }
   ],
   "source": [
    "# Create a classifier model for the training set \n",
    "model = LinearSVC(C=1)\n",
    "\n",
    "# Fit the model\n",
    "model.fit(X_train, y_train)\n",
    "\n",
    "# Compute your evaluation on the test set\n",
    "score = model.score(X_test, y_test)\n",
    "print('Accuracy = %s' % score)"
   ]
  },
  {
   "cell_type": "markdown",
   "metadata": {},
   "source": [
    "#### 2.3.2. Build a classifier by training and testing on multiple folds.\n",
    "\n",
    "The `PredefinedSplit` method does this automatically. Use PredefinedSplit to split the data for LORO multiple folds. \n"
   ]
  },
  {
   "cell_type": "code",
   "execution_count": 52,
   "metadata": {},
   "outputs": [
    {
     "name": "stdout",
     "output_type": "stream",
     "text": [
      "Accuracy across folds: [0.88, 0.8933333333333333, 0.8466666666666667]\n"
     ]
    }
   ],
   "source": [
    "# loop over all runs \n",
    "scores = []\n",
    "\n",
    "# split data according to run ids \n",
    "ps = PredefinedSplit(run_ids)\n",
    "\n",
    "# classifier \n",
    "model = LinearSVC() \n",
    "for train_index, test_index in ps.split():\n",
    "    X_train, X_test = bold_data_normalized[train_index], bold_data_normalized[test_index]\n",
    "    y_train, y_test = labels[train_index], labels[test_index]\n",
    "    \n",
    "    # fit an svm\n",
    "    model.fit(X_train, y_train)\n",
    "    \n",
    "    # calculate the accuracy for the hold out run\n",
    "    score = model.score(X_test, y_test)\n",
    "    scores.append(score)\n",
    "    \n",
    "print('Accuracy across folds:', scores)"
   ]
  },
  {
   "cell_type": "markdown",
   "metadata": {},
   "source": [
    "**2.3.3 Classifier Performance**  \n",
    "\n",
    "In the VDC dataset, we have 3 equally represented sets of stimuli, and thus random guessing will result in being correct 1/3 of the time. Using this logic, this classifier used fMRI data from a brain mask of the Fusiform Face Area to make highly statistically significant classifications on a single participant. "
   ]
  },
  {
   "cell_type": "markdown",
   "metadata": {},
   "source": [
    "### 2.4 Perform the analysis on multiple  participants <a id=\"across_ppts\"></a>\n",
    "\n",
    "The next step is to run a classifier on a group of subjects. We will now create the condition variable, stim_label_TR, for all subjects and then use it to pull out the relevant participant data and then feed it into a classifier.\n",
    "\n",
    "Before you run this command, make sure you save your notebook. You will be loading in a lot of data and so it might run into memory issues and crash your job. If you do have issues, change how many cores/memory you are using when you launch this notebook."
   ]
  },
  {
   "cell_type": "markdown",
   "metadata": {},
   "source": [
    "**Exercise 2:**<a id=\"ex2\"></a> Convert the classifier code above into a function called `decode` with the inputs of data, labels, and run_labels."
   ]
  },
  {
   "cell_type": "code",
   "execution_count": 53,
   "metadata": {},
   "outputs": [],
   "source": [
    "# Put code here. The function should output models and scores\n",
    "def decode(data, labels, run_labels): \n",
    "    #data is normalized BOLD data from each subject \n",
    "    #labels is stimulus being shown\n",
    "    \n",
    "    score = model.score(data, labels)\n",
    "    #run labels is run number \n",
    "    \n",
    "    return model, score"
   ]
  },
  {
   "cell_type": "markdown",
   "metadata": {},
   "source": [
    "Run the function on this participant"
   ]
  },
  {
   "cell_type": "code",
   "execution_count": 54,
   "metadata": {},
   "outputs": [
    {
     "name": "stdout",
     "output_type": "stream",
     "text": [
      "Decoding accuracy across the 3 folds:  0.9488888888888889\n"
     ]
    }
   ],
   "source": [
    "# Run the function \n",
    "\n",
    "#bold_data_normalized should take data from ALL subjects, store in 1 massive array\n",
    "#just do by combining the three subjects \n",
    "\n",
    "models, scores = decode(bold_data_normalized, labels, run_ids)\n",
    "print('Decoding accuracy across the 3 folds: ', scores)"
   ]
  },
  {
   "cell_type": "markdown",
   "metadata": {},
   "source": [
    "**Exercise 3:** <a id=\"ex3\"></a> What is the average SVM accuracy for sub-01, sub-02 and sub-03?"
   ]
  },
  {
   "cell_type": "code",
   "execution_count": 56,
   "metadata": {},
   "outputs": [
    {
     "name": "stdout",
     "output_type": "stream",
     "text": [
      "Loaded FFA mask\n",
      "Loading data from /Users/aratzan/Downloads/brainiak_datasets/vdc/sub-01/preprocessed/loc/sub-01_filtered2_d1_firstExampleFunc_r1.nii\n",
      "Loading data from /Users/aratzan/Downloads/brainiak_datasets/vdc/sub-01/preprocessed/loc/sub-01_filtered2_d1_firstExampleFunc_r2.nii\n",
      "Loading data from /Users/aratzan/Downloads/brainiak_datasets/vdc/sub-01/preprocessed/loc/sub-01_filtered2_d1_firstExampleFunc_r3.nii\n",
      "Loaded PPA mask\n",
      "Loading data from /Users/aratzan/Downloads/brainiak_datasets/vdc/sub-01/preprocessed/loc/sub-01_filtered2_d1_firstExampleFunc_r1.nii\n",
      "Loading data from /Users/aratzan/Downloads/brainiak_datasets/vdc/sub-01/preprocessed/loc/sub-01_filtered2_d1_firstExampleFunc_r2.nii\n",
      "Loading data from /Users/aratzan/Downloads/brainiak_datasets/vdc/sub-01/preprocessed/loc/sub-01_filtered2_d1_firstExampleFunc_r3.nii\n",
      "Loaded FFA mask\n",
      "Loading data from /Users/aratzan/Downloads/brainiak_datasets/vdc/sub-02/preprocessed/loc/sub-02_filtered2_d1_firstExampleFunc_r1.nii\n",
      "Loading data from /Users/aratzan/Downloads/brainiak_datasets/vdc/sub-02/preprocessed/loc/sub-02_filtered2_d1_firstExampleFunc_r2.nii\n",
      "Loading data from /Users/aratzan/Downloads/brainiak_datasets/vdc/sub-02/preprocessed/loc/sub-02_filtered2_d1_firstExampleFunc_r3.nii\n",
      "Loaded PPA mask\n",
      "Loading data from /Users/aratzan/Downloads/brainiak_datasets/vdc/sub-02/preprocessed/loc/sub-02_filtered2_d1_firstExampleFunc_r1.nii\n",
      "Loading data from /Users/aratzan/Downloads/brainiak_datasets/vdc/sub-02/preprocessed/loc/sub-02_filtered2_d1_firstExampleFunc_r2.nii\n",
      "Loading data from /Users/aratzan/Downloads/brainiak_datasets/vdc/sub-02/preprocessed/loc/sub-02_filtered2_d1_firstExampleFunc_r3.nii\n",
      "Loaded FFA mask\n",
      "Loading data from /Users/aratzan/Downloads/brainiak_datasets/vdc/sub-03/preprocessed/loc/sub-03_filtered2_d1_firstExampleFunc_r1.nii\n",
      "Loading data from /Users/aratzan/Downloads/brainiak_datasets/vdc/sub-03/preprocessed/loc/sub-03_filtered2_d1_firstExampleFunc_r2.nii\n",
      "Loading data from /Users/aratzan/Downloads/brainiak_datasets/vdc/sub-03/preprocessed/loc/sub-03_filtered2_d1_firstExampleFunc_r3.nii\n",
      "Loaded PPA mask\n",
      "Loading data from /Users/aratzan/Downloads/brainiak_datasets/vdc/sub-03/preprocessed/loc/sub-03_filtered2_d1_firstExampleFunc_r1.nii\n",
      "Loading data from /Users/aratzan/Downloads/brainiak_datasets/vdc/sub-03/preprocessed/loc/sub-03_filtered2_d1_firstExampleFunc_r2.nii\n",
      "Loading data from /Users/aratzan/Downloads/brainiak_datasets/vdc/sub-03/preprocessed/loc/sub-03_filtered2_d1_firstExampleFunc_r3.nii\n"
     ]
    }
   ],
   "source": [
    "#find the accuracy of a classifier across participants\n",
    "subs = ['sub-01', 'sub-02', 'sub-03']\n",
    "\n",
    "roi_name = 'FFA'\n",
    "\n",
    "#load in the data for each subject \n",
    "masked_data_sub_01 = load_vdc_masked_data(vdc_data_dir, 'sub-01', vdc_all_ROIs)\n",
    "FFA_masked_data_01 = epi_mask_data_all[vdc_all_ROIs.index(roi_name)]\n",
    "bold_data_01, labels_01 = reshape_data(stim_label_TR_shifted, roi_masked_data)\n",
    "\n",
    "masked_data_sub_02 = load_vdc_masked_data(vdc_data_dir, 'sub-02', vdc_all_ROIs)\n",
    "FFA_masked_data_02 = epi_mask_data_all[vdc_all_ROIs.index(roi_name)]\n",
    "bold_data_02, labels_02 = reshape_data(stim_label_TR_shifted, roi_masked_data)\n",
    "\n",
    "masked_data_sub_03 = load_vdc_masked_data(vdc_data_dir, 'sub-03', vdc_all_ROIs)\n",
    "FFA_masked_data_03 = epi_mask_data_all[vdc_all_ROIs.index(roi_name)]\n",
    "bold_data_03, labels_03 = reshape_data(stim_label_TR_shifted, roi_masked_data)\n",
    "\n",
    "\n"
   ]
  },
  {
   "cell_type": "code",
   "execution_count": 70,
   "metadata": {},
   "outputs": [
    {
     "name": "stdout",
     "output_type": "stream",
     "text": [
      "labels (450,)\n",
      "data (450, 5519)\n",
      "labels (450,)\n",
      "data (450, 5519)\n",
      "labels (450,)\n",
      "data (450, 5519)\n",
      "(1350,)\n",
      "[2. 2. 2. ... 2. 2. 2.]\n",
      "(1350, 5519)\n",
      "[[14431.849 14724.007 13766.936 ... 12111.685 12827.976 11162.897]\n",
      " [14229.876 14711.505 13581.832 ... 12205.481 12657.786 11434.864]\n",
      " [14264.533 14252.69  13182.161 ... 12244.312 13076.692 11114.171]\n",
      " ...\n",
      " [14349.139 14398.849 13002.225 ... 12546.632 12952.056 11063.763]\n",
      " [14416.948 14398.909 13061.412 ... 12778.975 13024.539 11242.5  ]\n",
      " [14149.824 14683.279 13046.117 ... 12672.883 13021.828 11270.527]]\n"
     ]
    }
   ],
   "source": [
    "print(\"labels\", np.shape(labels_01))\n",
    "print(\"data\", np.shape(bold_data_01))\n",
    "#np.shape(labels_02)\n",
    "print(\"labels\", np.shape(labels_02))\n",
    "print(\"data\", np.shape(bold_data_02))\n",
    "print(\"labels\", np.shape(labels_03))\n",
    "print(\"data\", np.shape(bold_data_03))\n",
    "\n",
    "#all the same size so just concatenate.\n",
    "all_labels = np.concatenate((labels_01, labels_02, labels_03), axis = 0)\n",
    "all_bold_data = np.concatenate((bold_data_01, bold_data_02, bold_data_03), axis = 0)\n",
    "print(np.shape(all_labels))\n",
    "print(all_labels)\n",
    "print(np.shape(all_bold_data))\n",
    "print(all_bold_data)"
   ]
  },
  {
   "cell_type": "code",
   "execution_count": 78,
   "metadata": {},
   "outputs": [],
   "source": [
    "#perform a train test split \n",
    "from sklearn.model_selection import train_test_split\n",
    "\n",
    "scaler = StandardScaler()\n",
    "all_bold_data_normalized = scaler.fit_transform(all_bold_data)\n",
    "\n",
    "X_train, X_test, y_train, y_test = train_test_split(all_bold_data_normalized, all_labels, test_size = 0.33)\n"
   ]
  },
  {
   "cell_type": "code",
   "execution_count": 79,
   "metadata": {},
   "outputs": [
    {
     "name": "stdout",
     "output_type": "stream",
     "text": [
      "0.9932735426008968\n"
     ]
    }
   ],
   "source": [
    "full_model = LinearSVC(C=1)\n",
    "\n",
    "# Fit the model\n",
    "full_model.fit(X_train, y_train)\n",
    "\n",
    "# Compute your evaluation on the test set\n",
    "score = full_model.score(X_test, y_test)\n",
    "\n",
    "print(score)"
   ]
  },
  {
   "cell_type": "code",
   "execution_count": 80,
   "metadata": {},
   "outputs": [],
   "source": [
    "#EXPLANATION\n",
    "\n",
    "#should try and extrapolate to a new participant "
   ]
  },
  {
   "cell_type": "code",
   "execution_count": 23,
   "metadata": {},
   "outputs": [
    {
     "name": "stdout",
     "output_type": "stream",
     "text": [
      "3\n",
      "Loaded FFA mask\n",
      "Loading data from /Users/aratzan/Downloads/brainiak_datasets/vdc/sub-01/preprocessed/loc/sub-01_filtered2_d1_firstExampleFunc_r1.nii\n",
      "Loading data from /Users/aratzan/Downloads/brainiak_datasets/vdc/sub-01/preprocessed/loc/sub-01_filtered2_d1_firstExampleFunc_r2.nii\n",
      "Loading data from /Users/aratzan/Downloads/brainiak_datasets/vdc/sub-01/preprocessed/loc/sub-01_filtered2_d1_firstExampleFunc_r3.nii\n",
      "Loaded PPA mask\n",
      "Loading data from /Users/aratzan/Downloads/brainiak_datasets/vdc/sub-01/preprocessed/loc/sub-01_filtered2_d1_firstExampleFunc_r1.nii\n",
      "Loading data from /Users/aratzan/Downloads/brainiak_datasets/vdc/sub-01/preprocessed/loc/sub-01_filtered2_d1_firstExampleFunc_r2.nii\n",
      "Loading data from /Users/aratzan/Downloads/brainiak_datasets/vdc/sub-01/preprocessed/loc/sub-01_filtered2_d1_firstExampleFunc_r3.nii\n",
      "[0. 0. 0. 0. 0. 0. 0. 0. 0. 0. 0. 0. 0. 0. 0. 0. 0. 0. 0. 0. 0. 0. 0. 0.\n",
      " 0. 0. 0. 0. 0. 0. 0. 0. 0. 0. 0. 0. 0. 0. 0. 0. 0. 0. 0. 0. 0. 0. 0. 0.\n",
      " 0. 0. 0. 0. 0. 0. 0. 0. 0. 0. 0. 0. 0. 0. 0. 0. 0. 0. 0. 0. 0. 0. 0. 0.\n",
      " 0. 0. 0. 0. 0. 0. 0. 0. 0. 0. 0. 0. 0. 0. 0. 0. 0. 0. 0. 0. 0. 0. 0. 0.\n",
      " 0. 0. 0. 0. 0. 0. 0. 0. 0. 0. 0. 0. 0. 0. 0. 0. 0. 0. 0. 0. 0. 0. 0. 0.\n",
      " 0. 0. 0. 0. 0. 0. 0. 0. 0. 0. 0. 0. 0. 0. 0. 0. 0. 0. 0. 0. 0. 0. 0. 0.\n",
      " 0. 0. 0. 0. 0. 0. 1. 1. 1. 1. 1. 1. 1. 1. 1. 1. 1. 1. 1. 1. 1. 1. 1. 1.\n",
      " 1. 1. 1. 1. 1. 1. 1. 1. 1. 1. 1. 1. 1. 1. 1. 1. 1. 1. 1. 1. 1. 1. 1. 1.\n",
      " 1. 1. 1. 1. 1. 1. 1. 1. 1. 1. 1. 1. 1. 1. 1. 1. 1. 1. 1. 1. 1. 1. 1. 1.\n",
      " 1. 1. 1. 1. 1. 1. 1. 1. 1. 1. 1. 1. 1. 1. 1. 1. 1. 1. 1. 1. 1. 1. 1. 1.\n",
      " 1. 1. 1. 1. 1. 1. 1. 1. 1. 1. 1. 1. 1. 1. 1. 1. 1. 1. 1. 1. 1. 1. 1. 1.\n",
      " 1. 1. 1. 1. 1. 1. 1. 1. 1. 1. 1. 1. 1. 1. 1. 1. 1. 1. 1. 1. 1. 1. 1. 1.\n",
      " 1. 1. 1. 1. 1. 1. 1. 1. 1. 1. 1. 1. 2. 2. 2. 2. 2. 2. 2. 2. 2. 2. 2. 2.\n",
      " 2. 2. 2. 2. 2. 2. 2. 2. 2. 2. 2. 2. 2. 2. 2. 2. 2. 2. 2. 2. 2. 2. 2. 2.\n",
      " 2. 2. 2. 2. 2. 2. 2. 2. 2. 2. 2. 2. 2. 2. 2. 2. 2. 2. 2. 2. 2. 2. 2. 2.\n",
      " 2. 2. 2. 2. 2. 2. 2. 2. 2. 2. 2. 2. 2. 2. 2. 2. 2. 2. 2. 2. 2. 2. 2. 2.\n",
      " 2. 2. 2. 2. 2. 2. 2. 2. 2. 2. 2. 2. 2. 2. 2. 2. 2. 2. 2. 2. 2. 2. 2. 2.\n",
      " 2. 2. 2. 2. 2. 2. 2. 2. 2. 2. 2. 2. 2. 2. 2. 2. 2. 2. 2. 2. 2. 2. 2. 2.\n",
      " 2. 2. 2. 2. 2. 2. 2. 2. 2. 2. 2. 2. 2. 2. 2. 2. 2. 2.]\n",
      "(450, 5519)\n",
      "LinearSVC(C=1.0, class_weight=None, dual=True, fit_intercept=True,\n",
      "     intercept_scaling=1, loss='squared_hinge', max_iter=1000,\n",
      "     multi_class='ovr', penalty='l2', random_state=None, tol=0.0001,\n",
      "     verbose=0) 0.9488888888888889\n",
      "Loaded FFA mask\n",
      "Loading data from /Users/aratzan/Downloads/brainiak_datasets/vdc/sub-02/preprocessed/loc/sub-02_filtered2_d1_firstExampleFunc_r1.nii\n",
      "Loading data from /Users/aratzan/Downloads/brainiak_datasets/vdc/sub-02/preprocessed/loc/sub-02_filtered2_d1_firstExampleFunc_r2.nii\n",
      "Loading data from /Users/aratzan/Downloads/brainiak_datasets/vdc/sub-02/preprocessed/loc/sub-02_filtered2_d1_firstExampleFunc_r3.nii\n",
      "Loaded PPA mask\n",
      "Loading data from /Users/aratzan/Downloads/brainiak_datasets/vdc/sub-02/preprocessed/loc/sub-02_filtered2_d1_firstExampleFunc_r1.nii\n",
      "Loading data from /Users/aratzan/Downloads/brainiak_datasets/vdc/sub-02/preprocessed/loc/sub-02_filtered2_d1_firstExampleFunc_r2.nii\n",
      "Loading data from /Users/aratzan/Downloads/brainiak_datasets/vdc/sub-02/preprocessed/loc/sub-02_filtered2_d1_firstExampleFunc_r3.nii\n",
      "[0. 0. 0. 0. 0. 0. 0. 0. 0. 0. 0. 0. 0. 0. 0. 0. 0. 0. 0. 0. 0. 0. 0. 0.\n",
      " 0. 0. 0. 0. 0. 0. 0. 0. 0. 0. 0. 0. 0. 0. 0. 0. 0. 0. 0. 0. 0. 0. 0. 0.\n",
      " 0. 0. 0. 0. 0. 0. 0. 0. 0. 0. 0. 0. 0. 0. 0. 0. 0. 0. 0. 0. 0. 0. 0. 0.\n",
      " 0. 0. 0. 0. 0. 0. 0. 0. 0. 0. 0. 0. 0. 0. 0. 0. 0. 0. 0. 0. 0. 0. 0. 0.\n",
      " 0. 0. 0. 0. 0. 0. 0. 0. 0. 0. 0. 0. 0. 0. 0. 0. 0. 0. 0. 0. 0. 0. 0. 0.\n",
      " 0. 0. 0. 0. 0. 0. 0. 0. 0. 0. 0. 0. 0. 0. 0. 0. 0. 0. 0. 0. 0. 0. 0. 0.\n",
      " 0. 0. 0. 0. 0. 0. 1. 1. 1. 1. 1. 1. 1. 1. 1. 1. 1. 1. 1. 1. 1. 1. 1. 1.\n",
      " 1. 1. 1. 1. 1. 1. 1. 1. 1. 1. 1. 1. 1. 1. 1. 1. 1. 1. 1. 1. 1. 1. 1. 1.\n",
      " 1. 1. 1. 1. 1. 1. 1. 1. 1. 1. 1. 1. 1. 1. 1. 1. 1. 1. 1. 1. 1. 1. 1. 1.\n",
      " 1. 1. 1. 1. 1. 1. 1. 1. 1. 1. 1. 1. 1. 1. 1. 1. 1. 1. 1. 1. 1. 1. 1. 1.\n",
      " 1. 1. 1. 1. 1. 1. 1. 1. 1. 1. 1. 1. 1. 1. 1. 1. 1. 1. 1. 1. 1. 1. 1. 1.\n",
      " 1. 1. 1. 1. 1. 1. 1. 1. 1. 1. 1. 1. 1. 1. 1. 1. 1. 1. 1. 1. 1. 1. 1. 1.\n",
      " 1. 1. 1. 1. 1. 1. 1. 1. 1. 1. 1. 1. 2. 2. 2. 2. 2. 2. 2. 2. 2. 2. 2. 2.\n",
      " 2. 2. 2. 2. 2. 2. 2. 2. 2. 2. 2. 2. 2. 2. 2. 2. 2. 2. 2. 2. 2. 2. 2. 2.\n",
      " 2. 2. 2. 2. 2. 2. 2. 2. 2. 2. 2. 2. 2. 2. 2. 2. 2. 2. 2. 2. 2. 2. 2. 2.\n",
      " 2. 2. 2. 2. 2. 2. 2. 2. 2. 2. 2. 2. 2. 2. 2. 2. 2. 2. 2. 2. 2. 2. 2. 2.\n",
      " 2. 2. 2. 2. 2. 2. 2. 2. 2. 2. 2. 2. 2. 2. 2. 2. 2. 2. 2. 2. 2. 2. 2. 2.\n",
      " 2. 2. 2. 2. 2. 2. 2. 2. 2. 2. 2. 2. 2. 2. 2. 2. 2. 2. 2. 2. 2. 2. 2. 2.\n",
      " 2. 2. 2. 2. 2. 2. 2. 2. 2. 2. 2. 2. 2. 2. 2. 2. 2. 2.]\n",
      "(450, 7027)\n",
      "LinearSVC(C=1.0, class_weight=None, dual=True, fit_intercept=True,\n",
      "     intercept_scaling=1, loss='squared_hinge', max_iter=1000,\n",
      "     multi_class='ovr', penalty='l2', random_state=None, tol=0.0001,\n",
      "     verbose=0) 0.3844444444444444\n",
      "Loaded FFA mask\n",
      "Loading data from /Users/aratzan/Downloads/brainiak_datasets/vdc/sub-03/preprocessed/loc/sub-03_filtered2_d1_firstExampleFunc_r1.nii\n",
      "Loading data from /Users/aratzan/Downloads/brainiak_datasets/vdc/sub-03/preprocessed/loc/sub-03_filtered2_d1_firstExampleFunc_r2.nii\n",
      "Loading data from /Users/aratzan/Downloads/brainiak_datasets/vdc/sub-03/preprocessed/loc/sub-03_filtered2_d1_firstExampleFunc_r3.nii\n",
      "Loaded PPA mask\n",
      "Loading data from /Users/aratzan/Downloads/brainiak_datasets/vdc/sub-03/preprocessed/loc/sub-03_filtered2_d1_firstExampleFunc_r1.nii\n",
      "Loading data from /Users/aratzan/Downloads/brainiak_datasets/vdc/sub-03/preprocessed/loc/sub-03_filtered2_d1_firstExampleFunc_r2.nii\n",
      "Loading data from /Users/aratzan/Downloads/brainiak_datasets/vdc/sub-03/preprocessed/loc/sub-03_filtered2_d1_firstExampleFunc_r3.nii\n",
      "[0. 0. 0. 0. 0. 0. 0. 0. 0. 0. 0. 0. 0. 0. 0. 0. 0. 0. 0. 0. 0. 0. 0. 0.\n",
      " 0. 0. 0. 0. 0. 0. 0. 0. 0. 0. 0. 0. 0. 0. 0. 0. 0. 0. 0. 0. 0. 0. 0. 0.\n",
      " 0. 0. 0. 0. 0. 0. 0. 0. 0. 0. 0. 0. 0. 0. 0. 0. 0. 0. 0. 0. 0. 0. 0. 0.\n",
      " 0. 0. 0. 0. 0. 0. 0. 0. 0. 0. 0. 0. 0. 0. 0. 0. 0. 0. 0. 0. 0. 0. 0. 0.\n",
      " 0. 0. 0. 0. 0. 0. 0. 0. 0. 0. 0. 0. 0. 0. 0. 0. 0. 0. 0. 0. 0. 0. 0. 0.\n",
      " 0. 0. 0. 0. 0. 0. 0. 0. 0. 0. 0. 0. 0. 0. 0. 0. 0. 0. 0. 0. 0. 0. 0. 0.\n",
      " 0. 0. 0. 0. 0. 0. 1. 1. 1. 1. 1. 1. 1. 1. 1. 1. 1. 1. 1. 1. 1. 1. 1. 1.\n",
      " 1. 1. 1. 1. 1. 1. 1. 1. 1. 1. 1. 1. 1. 1. 1. 1. 1. 1. 1. 1. 1. 1. 1. 1.\n",
      " 1. 1. 1. 1. 1. 1. 1. 1. 1. 1. 1. 1. 1. 1. 1. 1. 1. 1. 1. 1. 1. 1. 1. 1.\n",
      " 1. 1. 1. 1. 1. 1. 1. 1. 1. 1. 1. 1. 1. 1. 1. 1. 1. 1. 1. 1. 1. 1. 1. 1.\n",
      " 1. 1. 1. 1. 1. 1. 1. 1. 1. 1. 1. 1. 1. 1. 1. 1. 1. 1. 1. 1. 1. 1. 1. 1.\n",
      " 1. 1. 1. 1. 1. 1. 1. 1. 1. 1. 1. 1. 1. 1. 1. 1. 1. 1. 1. 1. 1. 1. 1. 1.\n",
      " 1. 1. 1. 1. 1. 1. 1. 1. 1. 1. 1. 1. 2. 2. 2. 2. 2. 2. 2. 2. 2. 2. 2. 2.\n",
      " 2. 2. 2. 2. 2. 2. 2. 2. 2. 2. 2. 2. 2. 2. 2. 2. 2. 2. 2. 2. 2. 2. 2. 2.\n",
      " 2. 2. 2. 2. 2. 2. 2. 2. 2. 2. 2. 2. 2. 2. 2. 2. 2. 2. 2. 2. 2. 2. 2. 2.\n",
      " 2. 2. 2. 2. 2. 2. 2. 2. 2. 2. 2. 2. 2. 2. 2. 2. 2. 2. 2. 2. 2. 2. 2. 2.\n",
      " 2. 2. 2. 2. 2. 2. 2. 2. 2. 2. 2. 2. 2. 2. 2. 2. 2. 2. 2. 2. 2. 2. 2. 2.\n",
      " 2. 2. 2. 2. 2. 2. 2. 2. 2. 2. 2. 2. 2. 2. 2. 2. 2. 2. 2. 2. 2. 2. 2. 2.\n",
      " 2. 2. 2. 2. 2. 2. 2. 2. 2. 2. 2. 2. 2. 2. 2. 2. 2. 2.]\n",
      "(450, 7030)\n",
      "LinearSVC(C=1.0, class_weight=None, dual=True, fit_intercept=True,\n",
      "     intercept_scaling=1, loss='squared_hinge', max_iter=1000,\n",
      "     multi_class='ovr', penalty='l2', random_state=None, tol=0.0001,\n",
      "     verbose=0) 0.32222222222222224\n"
     ]
    }
   ],
   "source": [
    "# Insert code here\n",
    "subs = ['sub-01', 'sub-02', 'sub-03']\n",
    "\n",
    "print(vdc_n_runs) #3 runs\n",
    "\n",
    "for sub in subs:\n",
    "    roi_name = 'FFA'\n",
    "    # Apply the function to pull out the mask data\n",
    "    epi_mask_data_all = load_vdc_masked_data(vdc_data_dir, sub, vdc_all_ROIs)\n",
    "    roi_masked_data = epi_mask_data_all[vdc_all_ROIs.index(roi_name)]\n",
    "    bold_data, labels = reshape_data(stim_label_TR_shifted, roi_masked_data)\n",
    "    run_ids = stim_label_allruns[5, :] - 1\n",
    "    print(run_ids)\n",
    "    print(bold_data.shape)\n",
    "    bold_data_normalized = normalize(bold_data, run_ids)\n",
    "    models, scores = decode(bold_data_normalized[:,:5519], labels, run_ids)\n",
    "    print(models, scores)\n",
    "    \n",
    "    #don't have to train on classifier, \n",
    "    #simply normalize data, get necessary variables and test  \n",
    "    \n",
    "    "
   ]
  },
  {
   "cell_type": "code",
   "execution_count": 166,
   "metadata": {},
   "outputs": [
    {
     "name": "stdout",
     "output_type": "stream",
     "text": [
      "LinearSVC(C=1, class_weight=None, dual=True, fit_intercept=True,\n",
      "     intercept_scaling=1, loss='squared_hinge', max_iter=1000,\n",
      "     multi_class='ovr', penalty='l2', random_state=None, tol=0.0001,\n",
      "     verbose=0) 0.3622222222222222\n"
     ]
    }
   ],
   "source": [
    "models, scores = decode(bold_data_normalized[:,-5519:], labels, run_ids)\n",
    "print(models, scores)"
   ]
  },
  {
   "cell_type": "code",
   "execution_count": 163,
   "metadata": {},
   "outputs": [
    {
     "name": "stdout",
     "output_type": "stream",
     "text": [
      "Loaded FFA mask\n",
      "Loading data from /Users/aratzan/Downloads/brainiak_datasets/vdc/sub-03/preprocessed/loc/sub-03_filtered2_d1_firstExampleFunc_r1.nii\n",
      "Loading data from /Users/aratzan/Downloads/brainiak_datasets/vdc/sub-03/preprocessed/loc/sub-03_filtered2_d1_firstExampleFunc_r2.nii\n",
      "Loading data from /Users/aratzan/Downloads/brainiak_datasets/vdc/sub-03/preprocessed/loc/sub-03_filtered2_d1_firstExampleFunc_r3.nii\n",
      "Loaded PPA mask\n",
      "Loading data from /Users/aratzan/Downloads/brainiak_datasets/vdc/sub-03/preprocessed/loc/sub-03_filtered2_d1_firstExampleFunc_r1.nii\n",
      "Loading data from /Users/aratzan/Downloads/brainiak_datasets/vdc/sub-03/preprocessed/loc/sub-03_filtered2_d1_firstExampleFunc_r2.nii\n",
      "Loading data from /Users/aratzan/Downloads/brainiak_datasets/vdc/sub-03/preprocessed/loc/sub-03_filtered2_d1_firstExampleFunc_r3.nii\n",
      "[0. 0. 0. 0. 0. 0. 0. 0. 0. 0. 0. 0. 0. 0. 0. 0. 0. 0. 0. 0. 0. 0. 0. 0.\n",
      " 0. 0. 0. 0. 0. 0. 0. 0. 0. 0. 0. 0. 0. 0. 0. 0. 0. 0. 0. 0. 0. 0. 0. 0.\n",
      " 0. 0. 0. 0. 0. 0. 0. 0. 0. 0. 0. 0. 0. 0. 0. 0. 0. 0. 0. 0. 0. 0. 0. 0.\n",
      " 0. 0. 0. 0. 0. 0. 0. 0. 0. 0. 0. 0. 0. 0. 0. 0. 0. 0. 0. 0. 0. 0. 0. 0.\n",
      " 0. 0. 0. 0. 0. 0. 0. 0. 0. 0. 0. 0. 0. 0. 0. 0. 0. 0. 0. 0. 0. 0. 0. 0.\n",
      " 0. 0. 0. 0. 0. 0. 0. 0. 0. 0. 0. 0. 0. 0. 0. 0. 0. 0. 0. 0. 0. 0. 0. 0.\n",
      " 0. 0. 0. 0. 0. 0. 1. 1. 1. 1. 1. 1. 1. 1. 1. 1. 1. 1. 1. 1. 1. 1. 1. 1.\n",
      " 1. 1. 1. 1. 1. 1. 1. 1. 1. 1. 1. 1. 1. 1. 1. 1. 1. 1. 1. 1. 1. 1. 1. 1.\n",
      " 1. 1. 1. 1. 1. 1. 1. 1. 1. 1. 1. 1. 1. 1. 1. 1. 1. 1. 1. 1. 1. 1. 1. 1.\n",
      " 1. 1. 1. 1. 1. 1. 1. 1. 1. 1. 1. 1. 1. 1. 1. 1. 1. 1. 1. 1. 1. 1. 1. 1.\n",
      " 1. 1. 1. 1. 1. 1. 1. 1. 1. 1. 1. 1. 1. 1. 1. 1. 1. 1. 1. 1. 1. 1. 1. 1.\n",
      " 1. 1. 1. 1. 1. 1. 1. 1. 1. 1. 1. 1. 1. 1. 1. 1. 1. 1. 1. 1. 1. 1. 1. 1.\n",
      " 1. 1. 1. 1. 1. 1. 1. 1. 1. 1. 1. 1. 2. 2. 2. 2. 2. 2. 2. 2. 2. 2. 2. 2.\n",
      " 2. 2. 2. 2. 2. 2. 2. 2. 2. 2. 2. 2. 2. 2. 2. 2. 2. 2. 2. 2. 2. 2. 2. 2.\n",
      " 2. 2. 2. 2. 2. 2. 2. 2. 2. 2. 2. 2. 2. 2. 2. 2. 2. 2. 2. 2. 2. 2. 2. 2.\n",
      " 2. 2. 2. 2. 2. 2. 2. 2. 2. 2. 2. 2. 2. 2. 2. 2. 2. 2. 2. 2. 2. 2. 2. 2.\n",
      " 2. 2. 2. 2. 2. 2. 2. 2. 2. 2. 2. 2. 2. 2. 2. 2. 2. 2. 2. 2. 2. 2. 2. 2.\n",
      " 2. 2. 2. 2. 2. 2. 2. 2. 2. 2. 2. 2. 2. 2. 2. 2. 2. 2. 2. 2. 2. 2. 2. 2.\n",
      " 2. 2. 2. 2. 2. 2. 2. 2. 2. 2. 2. 2. 2. 2. 2. 2. 2. 2.]\n",
      "(450, 7030)\n",
      "LinearSVC(C=1, class_weight=None, dual=True, fit_intercept=True,\n",
      "     intercept_scaling=1, loss='squared_hinge', max_iter=1000,\n",
      "     multi_class='ovr', penalty='l2', random_state=None, tol=0.0001,\n",
      "     verbose=0) 0.32222222222222224\n"
     ]
    }
   ],
   "source": [
    "sub = 'sub-03'\n",
    "roi_name = 'FFA'\n",
    "# Apply the function to pull out the mask data\n",
    "epi_mask_data_all = load_vdc_masked_data(vdc_data_dir, sub, vdc_all_ROIs)\n",
    "roi_masked_data = epi_mask_data_all[vdc_all_ROIs.index(roi_name)]\n",
    "bold_data, labels = reshape_data(stim_label_TR_shifted, roi_masked_data)\n",
    "run_ids = stim_label_allruns[5, :] - 1\n",
    "print(run_ids)\n",
    "print(bold_data.shape)\n",
    "bold_data_normalized = normalize(bold_data, run_ids)\n",
    "models, scores = decode(bold_data_normalized[:,-5519:], labels, run_ids)\n",
    "print(models, scores)\n"
   ]
  },
  {
   "cell_type": "code",
   "execution_count": 164,
   "metadata": {},
   "outputs": [
    {
     "name": "stdout",
     "output_type": "stream",
     "text": [
      "LinearSVC(C=1, class_weight=None, dual=True, fit_intercept=True,\n",
      "     intercept_scaling=1, loss='squared_hinge', max_iter=1000,\n",
      "     multi_class='ovr', penalty='l2', random_state=None, tol=0.0001,\n",
      "     verbose=0) 0.3622222222222222\n"
     ]
    }
   ],
   "source": [
    "models, scores = decode(bold_data_normalized[:,-5519:], labels, run_ids)\n",
    "print(models, scores)"
   ]
  },
  {
   "cell_type": "code",
   "execution_count": 151,
   "metadata": {},
   "outputs": [
    {
     "name": "stdout",
     "output_type": "stream",
     "text": [
      "(450, 7027)\n"
     ]
    }
   ],
   "source": [
    "print(bold_data_normalized.shape) #450 x 7027 "
   ]
  },
  {
   "cell_type": "markdown",
   "metadata": {},
   "source": [
    "## 3. Modular vs. Distributed Processing <a id=\"mod\"></a>\n",
    "\n",
    "The discovery of the Fusiform Face Area (FFA; Kanwisher, McDermott, and Chun, 1997; see also McCarthy, Puce, Gore, & Allison, 1997) was ground breaking for the field. The mean activity signal for face stimuli was larger than the mean for houses and objects. Thus, the FFA was preferential to faces, and by extension, it was inferred that all other cognitive processing must also be localized in brain regions yet to be discovered. \n",
    "\n",
    "The local nature of processing was challenged by another study (Haxby et al., 2001). Instead of looking at the mean activity of a set of voxels, this study examined the _pattern of activity_ of a set of voxels. Thus, if the mean activity was similar for two conditions, but the pattern of activity across a set of voxels was different across the two conditions, we can discriminate between the two conditions. Using this technique, it was shown that faces are not represented just in the FFA alone, but are distributed across a variety of brain regions. This led to the distributed view of face processing.\n",
    "\n",
    "In this section, you will perform a decoding analysis in the FFA and the parahippocampal place area (PPA) using the VDC dataset. To recap, the FFA was shown as a face processing region and the PPA as a scene processing region. Specifically, you will analyze the patterns of activity in these ROIs in the following ways: \n",
    "\n",
    ">1. Can we discriminate scenes vs. objects in the FFA?  \n",
    "      The FFA was shown to be a preferred region for face processing. If we can decode scenes vs. objects in this region, it implies that there is discriminable information for these two categories in the FFA. Thus, the FFA would not just represent faces, but scenes and/or objects too. Also, scenes would not be exclusively represented in the PPA. \n",
    "           \n",
    ">2. Can we discriminate faces vs. objects in the PPA?  \n",
    "      The PPA was shown to be a preferred region for scene processing. If we can decode faces vs. objects in this region, it implies that there is discriminable information for these two categories in the PPA. Thus, faces would not only be represented in the FFA. Also, the PPA would not just represent scenes, but faces and/or objects too.\n",
    "      "
   ]
  },
  {
   "cell_type": "markdown",
   "metadata": {},
   "source": [
    "### 3.1. Prepare the data for loading <a id=\"prep\"></a>\n",
    "\n",
    "Get the data ready for analysis of one participant by organizing it by ROI"
   ]
  },
  {
   "cell_type": "code",
   "execution_count": 103,
   "metadata": {},
   "outputs": [
    {
     "name": "stdout",
     "output_type": "stream",
     "text": [
      "Loaded labels for sub-01\n",
      "Loaded FFA mask\n",
      "Loading data from /Users/aratzan/Downloads/brainiak_datasets/vdc/sub-01/preprocessed/loc/sub-01_filtered2_d1_firstExampleFunc_r1.nii\n",
      "Loading data from /Users/aratzan/Downloads/brainiak_datasets/vdc/sub-01/preprocessed/loc/sub-01_filtered2_d1_firstExampleFunc_r2.nii\n",
      "Loading data from /Users/aratzan/Downloads/brainiak_datasets/vdc/sub-01/preprocessed/loc/sub-01_filtered2_d1_firstExampleFunc_r3.nii\n",
      "Loaded PPA mask\n",
      "Loading data from /Users/aratzan/Downloads/brainiak_datasets/vdc/sub-01/preprocessed/loc/sub-01_filtered2_d1_firstExampleFunc_r1.nii\n",
      "Loading data from /Users/aratzan/Downloads/brainiak_datasets/vdc/sub-01/preprocessed/loc/sub-01_filtered2_d1_firstExampleFunc_r2.nii\n",
      "Loading data from /Users/aratzan/Downloads/brainiak_datasets/vdc/sub-01/preprocessed/loc/sub-01_filtered2_d1_firstExampleFunc_r3.nii\n",
      "(10, 450)\n",
      "3\n",
      "150\n"
     ]
    }
   ],
   "source": [
    "# choose a subject\n",
    "sub = 'sub-01';\n",
    "\n",
    "# Convert the shift from secs to TRs\n",
    "shift_size = int(vdc_hrf_lag / vdc_TR) \n",
    "\n",
    "# Load subject labels\n",
    "stim_label_allruns = load_vdc_stim_labels(vdc_data_dir,sub) \n",
    "\n",
    "# Load the fMRI data\n",
    "epi_mask_data_all = load_vdc_masked_data(vdc_data_dir, sub, vdc_all_ROIs)\n",
    "\n",
    "# Convert the timing into TR indexes\n",
    "TRs_run = int(epi_mask_data_all[0].shape[1] / vdc_n_runs)\n",
    "stim_label_TR = label2TR(stim_label_allruns, vdc_n_runs, vdc_TR, TRs_run)\n",
    "\n",
    "# Shift the data some amount\n",
    "stim_label_TR_shifted = shift_timing(stim_label_TR, shift_size)\n",
    "# Select and reshape FFA data \n",
    "bold_data_FFA, labels = reshape_data(\n",
    "    stim_label_TR_shifted, epi_mask_data_all[vdc_all_ROIs.index('FFA')])\n",
    "\n",
    "# Select and reshape PPA data \n",
    "bold_data_PPA, _ = reshape_data(\n",
    "    stim_label_TR_shifted, epi_mask_data_all[vdc_all_ROIs.index('PPA')])\n",
    "\n",
    "# Specify the classifiers that will be used\n",
    "svc = LinearSVC()\n",
    "\n",
    "# load run ids (works similarity to cv_ids)\n",
    "run_ids = stim_label_allruns[5,:] - 1 "
   ]
  },
  {
   "cell_type": "markdown",
   "metadata": {},
   "source": [
    "### 3.2 FFA decoding <a id=\"mod_dist_ffa\"></a>\n",
    "\n",
    "**Exercise 4:**<a id=\"ex4\"></a> Decode Objects vs. Scenes from the FFA and report mean LORO test accuracy."
   ]
  },
  {
   "cell_type": "code",
   "execution_count": 104,
   "metadata": {},
   "outputs": [
    {
     "name": "stdout",
     "output_type": "stream",
     "text": [
      "[2. 2. 2. 2. 2. 2. 2. 2. 2. 2. 2. 2. 2. 2. 2. 2. 2. 2. 2. 2. 2. 2. 2. 2.\n",
      " 2. 2. 2. 2. 2. 2. 3. 3. 3. 3. 3. 3. 3. 3. 3. 3. 3. 3. 3. 3. 3. 3. 3. 3.\n",
      " 3. 3. 3. 3. 3. 3. 3. 3. 3. 3. 3. 3. 3. 3. 3. 3. 3. 3. 3. 3. 3. 3. 2. 2.\n",
      " 2. 2. 2. 2. 2. 2. 2. 2. 3. 3. 3. 3. 3. 3. 3. 3. 3. 3. 2. 2. 2. 2. 2. 2.\n",
      " 2. 2. 2. 2. 2. 2. 2. 2. 2. 2. 2. 2. 2. 2. 2. 2. 2. 2. 2. 2. 2. 2. 2. 2.\n",
      " 3. 3. 3. 3. 3. 3. 3. 3. 3. 3. 3. 3. 3. 3. 3. 3. 3. 3. 3. 3. 3. 3. 3. 3.\n",
      " 3. 3. 3. 3. 3. 3. 3. 3. 3. 3. 3. 3. 3. 3. 3. 3. 2. 2. 2. 2. 2. 2. 2. 2.\n",
      " 2. 2. 3. 3. 3. 3. 3. 3. 3. 3. 3. 3. 2. 2. 2. 2. 2. 2. 2. 2. 2. 2. 2. 2.\n",
      " 2. 2. 2. 2. 2. 2. 2. 2. 2. 2. 2. 2. 2. 2. 2. 2. 2. 2. 3. 3. 3. 3. 3. 3.\n",
      " 3. 3. 3. 3. 3. 3. 3. 3. 3. 3. 3. 3. 3. 3. 2. 2. 2. 2. 2. 2. 2. 2. 2. 2.\n",
      " 3. 3. 3. 3. 3. 3. 3. 3. 3. 3. 2. 2. 2. 2. 2. 2. 2. 2. 2. 2. 3. 3. 3. 3.\n",
      " 3. 3. 3. 3. 3. 3. 2. 2. 2. 2. 2. 2. 2. 2. 2. 2. 3. 3. 3. 3. 3. 3. 3. 3.\n",
      " 3. 3. 2. 2. 2. 2. 2. 2. 2. 2. 2. 2.]\n",
      "[[14431.849 14724.007 13766.936 ... 12111.685 12827.976 11162.897]\n",
      " [14229.876 14711.505 13581.832 ... 12205.481 12657.786 11434.864]\n",
      " [14264.533 14252.69  13182.161 ... 12244.312 13076.692 11114.171]\n",
      " ...\n",
      " [14349.139 14398.849 13002.225 ... 12546.632 12952.056 11063.763]\n",
      " [14416.948 14398.909 13061.412 ... 12778.975 13024.539 11242.5  ]\n",
      " [14149.824 14683.279 13046.117 ... 12672.883 13021.828 11270.527]]\n",
      "(300,)\n",
      "0.62\n"
     ]
    }
   ],
   "source": [
    "# Put code here. 1 faces, 2 scenes, 3 objects \n",
    "\n",
    "#only retain object and scene data and run a LORO test (remove one run for testing)\n",
    "\n",
    "#leave out unrelated labels, only retain 2 and 3 \n",
    "\n",
    "#iterate through labels... \n",
    "#if labels == 1 np.delete(bold_data_normalized, [i])\n",
    "newarr = []\n",
    "newruns = []\n",
    "\n",
    "for i in range(len(labels)):\n",
    "    if labels[i] != 1:\n",
    "        newarr.append(bold_data_FFA[i])\n",
    "        newruns.append(run_ids[i])\n",
    "        \n",
    "labels = np.delete(labels, np.where(labels == 1))\n",
    "\n",
    "newruns = np.asarray(newruns)\n",
    "newFFA = np.asarray(newarr)\n",
    "print(labels)\n",
    "print(newFFA)\n",
    "\n",
    "holdout_run_ids = 1\n",
    "train_runs = newruns != holdout_run_ids #have to remove the runids of the 1s\n",
    "\n",
    "print(newruns.shape) #make 298, remove the run id at the place where label is removed \n",
    "\n",
    "#leave out runs \n",
    "X_train = newFFA[train_runs,]\n",
    "y_train = labels[train_runs]\n",
    "X_test = newFFA[np.logical_not(train_runs),]\n",
    "y_test = labels[np.logical_not(train_runs)]\n",
    "\n",
    "\n",
    "svc.fit(X_train, y_train)\n",
    "score = svc.score(X_test, y_test)\n",
    "print(score) #can predict with 91% acc. at times, not random, FFA has activity beyond facial recog\n",
    "\n",
    "# print(bold_data_FFA)\n",
    "# print(labels)\n"
   ]
  },
  {
   "cell_type": "markdown",
   "metadata": {},
   "source": [
    "**A:**"
   ]
  },
  {
   "cell_type": "markdown",
   "metadata": {},
   "source": [
    "### 3.2 PPA decoding <a id=\"mod_dist_ppa\"></a>\n",
    "\n",
    "**Exercise 5:**<a id=\"ex5\"></a> Decode Objects vs. Faces from the PPA and report mean LORO test accuracy."
   ]
  },
  {
   "cell_type": "code",
   "execution_count": 105,
   "metadata": {},
   "outputs": [
    {
     "name": "stdout",
     "output_type": "stream",
     "text": [
      "(450, 2504)\n",
      "[3. 3. 3. 3. 3. 3. 3. 3. 3. 3. 1. 1. 1. 1. 1. 1. 1. 1. 1. 1. 1. 1. 1. 1.\n",
      " 1. 1. 1. 1. 1. 1. 3. 3. 3. 3. 3. 3. 3. 3. 3. 3. 1. 1. 1. 1. 1. 1. 1. 1.\n",
      " 1. 1. 3. 3. 3. 3. 3. 3. 3. 3. 3. 3. 1. 1. 1. 1. 1. 1. 1. 1. 1. 1. 3. 3.\n",
      " 3. 3. 3. 3. 3. 3. 3. 3. 1. 1. 1. 1. 1. 1. 1. 1. 1. 1. 3. 3. 3. 3. 3. 3.\n",
      " 3. 3. 3. 3. 3. 3. 3. 3. 3. 3. 3. 3. 3. 3. 1. 1. 1. 1. 1. 1. 1. 1. 1. 1.\n",
      " 3. 3. 3. 3. 3. 3. 3. 3. 3. 3. 1. 1. 1. 1. 1. 1. 1. 1. 1. 1. 3. 3. 3. 3.\n",
      " 3. 3. 3. 3. 3. 3. 1. 1. 1. 1. 1. 1. 1. 1. 1. 1. 3. 3. 3. 3. 3. 3. 3. 3.\n",
      " 3. 3. 3. 3. 3. 3. 3. 3. 3. 3. 3. 3. 1. 1. 1. 1. 1. 1. 1. 1. 1. 1. 1. 1.\n",
      " 1. 1. 1. 1. 1. 1. 1. 1. 1. 1. 1. 1. 1. 1. 1. 1. 1. 1. 3. 3. 3. 3. 3. 3.\n",
      " 3. 3. 3. 3. 3. 3. 3. 3. 3. 3. 3. 3. 3. 3. 3. 3. 3. 3. 3. 3. 3. 3. 3. 3.\n",
      " 1. 1. 1. 1. 1. 1. 1. 1. 1. 1. 1. 1. 1. 1. 1. 1. 1. 1. 1. 1. 3. 3. 3. 3.\n",
      " 3. 3. 3. 3. 3. 3. 1. 1. 1. 1. 1. 1. 1. 1. 1. 1. 3. 3. 3. 3. 3. 3. 3. 3.\n",
      " 3. 3. 1. 1. 1. 1. 1. 1. 1. 1. 1. 1.]\n",
      "[[ 8613.128   8920.533   9174.6455 ... 10537.092   8837.691  10145.452 ]\n",
      " [ 9050.516   8980.899   9711.184  ... 10765.338   9125.097  10333.5   ]\n",
      " [ 8915.795   8366.896   9203.457  ... 10320.923   9004.652  10199.05  ]\n",
      " ...\n",
      " [ 9273.821   8678.387   8955.729  ... 10178.057   8697.601   9830.64  ]\n",
      " [ 9136.896   9045.801   9215.782  ... 10034.539   8933.285   9896.147 ]\n",
      " [ 9037.947   8689.      9503.284  ... 10221.872   8875.272  10062.219 ]]\n",
      "(200, 2504)\n",
      "(100, 2504)\n",
      "0.51\n"
     ]
    }
   ],
   "source": [
    "# Put code here\n",
    "\n",
    "#retain object and face data and run LORO test (remove one run for testing)\n",
    "print(bold_data_PPA.shape)\n",
    "\n",
    "svcP = LinearSVC()\n",
    "\n",
    "newarr = []\n",
    "newruns = []\n",
    "\n",
    "for i in range(len(_)):\n",
    "    if _[i] != 2:\n",
    "        newarr.append(bold_data_PPA[i])\n",
    "        newruns.append(run_ids[i])\n",
    "        \n",
    "labels = np.delete(_, np.where(_ == 2))\n",
    "\n",
    "newruns = np.asarray(newruns)\n",
    "newPPA = np.asarray(newarr)\n",
    "print(labels)\n",
    "print(newPPA)\n",
    "\n",
    "holdout_run_ids = 1\n",
    "train_runs = newruns != holdout_run_ids \n",
    "\n",
    "X_train = newPPA[train_runs,]\n",
    "y_train = labels[train_runs]\n",
    "X_test = newPPA[np.logical_not(train_runs),]\n",
    "y_test = labels[np.logical_not(train_runs)]\n",
    "\n",
    "svcP.fit(X_train, y_train)\n",
    "score = svcP.score(X_test, y_test) \n",
    "#score is about average random of the time when differentiating showing that the PPA might be more modular than the FFA\n",
    "print(X_train.shape)\n",
    "print(X_test.shape)\n",
    "print(score)"
   ]
  },
  {
   "cell_type": "markdown",
   "metadata": {},
   "source": [
    "**Exercise 6:**<a id=\"ex6\"></a>  What can you infer about the processing of faces, objects, and scenes in the FFA and PPA? Say a few words about what this example can tell you about modular vs. distributed processing in the brain."
   ]
  },
  {
   "cell_type": "markdown",
   "metadata": {},
   "source": [
    "**A:** Most processing in the brain is relatively distributed "
   ]
  },
  {
   "cell_type": "markdown",
   "metadata": {},
   "source": [
    "**Novel contribution:** <a id=\"novel\"></a> be creative and make one new discovery by adding an analysis, visualization, or optimization.\n"
   ]
  },
  {
   "cell_type": "markdown",
   "metadata": {},
   "source": [
    "## Contributions <a id=\"contributions\"></a> \n",
    "\n",
    "M. Kumar, C. Ellis and N. Turk-Browne produced the initial notebook 02/2018   \n",
    "T. Meissner minor edits  \n",
    "Q. Lu a lot of edits...   \n",
    "M. Kumar added section introductions.  \n",
    "K.A. Norman provided suggestions on the overall content and made edits to this notebook.  \n",
    "C. Ellis implemented feedback from cmhn-s19"
   ]
  },
  {
   "cell_type": "code",
   "execution_count": null,
   "metadata": {
    "collapsed": true
   },
   "outputs": [],
   "source": []
  }
 ],
 "metadata": {
  "anaconda-cloud": {},
  "kernelspec": {
   "display_name": "Python 3",
   "language": "python",
   "name": "python3"
  },
  "language_info": {
   "codemirror_mode": {
    "name": "ipython",
    "version": 3
   },
   "file_extension": ".py",
   "mimetype": "text/x-python",
   "name": "python",
   "nbconvert_exporter": "python",
   "pygments_lexer": "ipython3",
   "version": "3.6.10"
  }
 },
 "nbformat": 4,
 "nbformat_minor": 2
}
