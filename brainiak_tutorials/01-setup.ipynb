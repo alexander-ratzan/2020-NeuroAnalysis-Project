{
 "cells": [
  {
   "cell_type": "markdown",
   "metadata": {},
   "source": [
    "# Introduction to BrainIAK tutorials\n",
    "\n",
    "\n",
    "Congratulations, if you are viewing this Jupyter notebook, you have already acquired many of the skills necessary to excel in this course and you are well on your way to learning cutting-edge methods for cognitive neuroscience!\n",
    "\n",
    "For users on NeuroLibre, you are seeing a ready to run version of these tutorials that needed no installation or configuration on your part. If you would like to install and use these tutorials on your own machines, follow the instructions on [brainiak tutorials](http://brainiak.org/tutorials).\n",
    "\n",
    "In this course we will use a variety of tools, many of which will likely be new to you. Don't worry if you are having trouble wrapping your head around them now: by the end of this course you will be proficient in not only these useful skills but also the exciting analyses that use them. \n",
    "\n",
    "## Goal of this notebook\n",
    "    1. Familiarize yourself with the tools that will be used in these notebooks. \n",
    "\n",
    "\n",
    "## Table of Contents\n",
    "\n",
    "Exercises\n",
    ">[Exercise 1](#ex1)  \n",
    "\n",
    "[Contributions](#contributions)"
   ]
  },
  {
   "cell_type": "markdown",
   "metadata": {},
   "source": [
    "## Resources <a id=\"resource\"></a>\n",
    "\n",
    "Here are some resources (Python, fMRI and machine learning, etc.): \n",
    "<a href=\"https://github.com/brainiak/tutorials/wiki/Resources\">BrainIAK tutorials resource page</a>"
   ]
  },
  {
   "cell_type": "markdown",
   "metadata": {},
   "source": [
    "## Import necessary packages\n",
    "\n",
    "While importing packages, you may see warning messages. It is safe to ignore these warnings as they will not impact your execution of the tutorials. "
   ]
  },
  {
   "cell_type": "code",
   "execution_count": 1,
   "metadata": {},
   "outputs": [
    {
     "data": {
      "application/javascript": [
       "IPython.notebook.set_autosave_interval(5000)"
      ]
     },
     "metadata": {},
     "output_type": "display_data"
    },
    {
     "name": "stdout",
     "output_type": "stream",
     "text": [
      "Autosaving every 5 seconds\n"
     ]
    }
   ],
   "source": [
    "# suppress warnings\n",
    "import warnings\n",
    "import sys \n",
    "if not sys.warnoptions:\n",
    "    warnings.simplefilter(\"ignore\")\n",
    "\n",
    "# The plotting tool we will be using in this course\n",
    "import matplotlib.pyplot as plt\n",
    "\n",
    "# Module essential for data organization and manipulation\n",
    "import numpy as np #numpy's \"nickname\" is np\n",
    "\n",
    "# Import a function from BrainIAK to simulate fMRI data\n",
    "import brainiak.utils.fmrisim as sim  \n",
    "\n",
    "# display the plots inline \n",
    "%matplotlib inline \n",
    "# autosave for every 5 secs\n",
    "%autosave 5"
   ]
  },
  {
   "cell_type": "markdown",
   "metadata": {},
   "source": [
    "### Brain template \n",
    "\n",
    "We are now going to use some of the tools we just loaded. First we'll call a function from `brainiak` to load a gray matter mask from the MNI152 standard brain. Here's an article talking about different anatomical standards, including MNI152: [Structural Brain Atlases: Design, Rationale, and Applications in Normal and Pathological Cohorts](https://www.ncbi.nlm.nih.gov/pmc/articles/PMC4324755/)"
   ]
  },
  {
   "cell_type": "code",
   "execution_count": 2,
   "metadata": {},
   "outputs": [],
   "source": [
    "# Set the size (in terms of X, Y, Z) of the volume we want to create\n",
    "dimensions = np.asarray([64, 64, 64])\n",
    "\n",
    "# Generate an anatomical image with the size above of brain voxels in gray matter\n",
    "# This outputs variables for two versions of the image, binary (mask) and probabilistic (template)\n",
    "mask, template = sim.mask_brain(dimensions, mask_self=False)"
   ]
  },
  {
   "cell_type": "markdown",
   "metadata": {},
   "source": [
    "Congrats, you just ran a command from BrainIAK!!\n",
    "\n",
    "We are now going to take a slice from that template and display it."
   ]
  },
  {
   "cell_type": "code",
   "execution_count": 3,
   "metadata": {},
   "outputs": [
    {
     "data": {
      "image/png": "[encoded data removed]",
      "text/plain": [
       "<Figure size 432x288 with 1 Axes>"
      ]
     },
     "metadata": {
      "needs_background": "light"
     },
     "output_type": "display_data"
    }
   ],
   "source": [
    "# Get an axial (a.k.a. transverse or horizontal) slice halfway through the brain\n",
    "mid_idx = dimensions[2] // 2\n",
    "axial_slice = template[:, :, mid_idx]\n",
    "\n",
    "# imshow can visualize a 2d array \n",
    "plt.imshow(axial_slice)\n",
    "plt.title('An axial brain slice');"
   ]
  },
  {
   "cell_type": "markdown",
   "metadata": {},
   "source": [
    "There are great tools in Python for exploring brains in notebooks. One such tool is [niwidgets](http://nipy.org/niwidgets/examples.html). Below we use that tool to look at the brain interactively. If you cannot install it, there are other options to consider, like [nibabel.viewers.OrthoSlicer3D](https://nipy.org/nibabel/reference/nibabel.viewers.html#nibabel.viewers.OrthoSlicer3D)"
   ]
  },
  {
   "cell_type": "code",
   "execution_count": 4,
   "metadata": {},
   "outputs": [
    {
     "name": "stdout",
     "output_type": "stream",
     "text": [
      "niwidgets cannot run, try installing it or some other viewing tool\n"
     ]
    }
   ],
   "source": [
    "import nibabel as nib\n",
    "try:\n",
    "    from niwidget import NiftiWidget\n",
    "\n",
    "    # Load in the new variable\n",
    "    template_nii = nib.Nifti1Image(template, np.eye(4))\n",
    "    viewer = NiftiWidget(template_nii)\n",
    "    viewer.nifti_plotter();\n",
    "\n",
    "except:\n",
    "    print('niwidgets cannot run, try installing it or some other viewing tool')"
   ]
  },
  {
   "cell_type": "markdown",
   "metadata": {},
   "source": [
    "### \"help()\"\n",
    "\n",
    "`help` is a very useful function in Python. If you type `help(function_name)` in Python, you will get some basic infomation about how to use this function. If you run the following line, you will see that `sim.mask_brain` takes the dimension of x, y, and z, and then output a MNI152 template with the specified dimensions. Note, you can also do this by typing [SHIFT] + [TAB] while the cursor is hovering over a function name. \n",
    "\n",
    "**Note:** The [SHIFT] + [TAB] works in Jupyter environments, but you will see small differences in this functionality when these notebooks are are used in other environments such as NeuroLibre that use Binder."
   ]
  },
  {
   "cell_type": "code",
   "execution_count": 5,
   "metadata": {},
   "outputs": [
    {
     "name": "stdout",
     "output_type": "stream",
     "text": [
      "Help on function mask_brain in module brainiak.utils.fmrisim:\n",
      "\n",
      "mask_brain(volume, template_name=None, mask_threshold=None, mask_self=True)\n",
      "    Mask the simulated volume\n",
      "    This creates a mask specifying the approximate likelihood that a voxel is\n",
      "    part of the brain. All values are bounded to the range of 0 to 1. An\n",
      "    appropriate threshold to isolate brain voxels is >0.2. Critically,\n",
      "    the data that should be used to create a template shouldn't already be\n",
      "    masked/skull stripped. If it is then it will give in accurate estimates\n",
      "    of non-brain noise and corrupt estimations of SNR.\n",
      "    \n",
      "    Parameters\n",
      "    ----------\n",
      "    \n",
      "    volume : multidimensional array\n",
      "        Either numpy array of a volume or a tuple describing the dimensions\n",
      "        of the mask to be created\n",
      "    \n",
      "    template_name : str\n",
      "        What is the path to the template to be loaded? If empty then it\n",
      "        defaults to an MNI152 grey matter mask. This is ignored if mask_self\n",
      "        is True.\n",
      "    \n",
      "    mask_threshold : float\n",
      "        What is the threshold (0 -> 1) for including a voxel in the mask? If\n",
      "        None then the program will try and identify the last wide peak in a\n",
      "        histogram of the template (assumed to be the brain voxels) and takes\n",
      "        the minima before that peak as the threshold. Won't work when the\n",
      "        data is not bimodal.\n",
      "    \n",
      "    mask_self : bool or None\n",
      "        If set to true then it makes a mask from the volume supplied (by\n",
      "        averaging across time points and changing the range). If it is set\n",
      "        to false then it will use the template_name as an input.\n",
      "    \n",
      "    Returns\n",
      "    ----------\n",
      "    \n",
      "    mask : 3 dimensional array, binary\n",
      "        The masked brain, thresholded to distinguish brain and non-brain\n",
      "    \n",
      "    template : 3 dimensional array, float\n",
      "        A continuous (0 -> 1) volume describing the likelihood a voxel is in\n",
      "        the brain. This can be used to contrast the brain and non brain.\n",
      "\n"
     ]
    }
   ],
   "source": [
    "help(sim.mask_brain)"
   ]
  },
  {
   "cell_type": "markdown",
   "metadata": {},
   "source": [
    "### Look at the source code\n",
    "If you want to see the source code, you can use the `getsource` function from the `inspect` package. \n",
    "\n",
    "Run the following code to see the source code of `sim.mask_brain`. "
   ]
  },
  {
   "cell_type": "code",
   "execution_count": 7,
   "metadata": {},
   "outputs": [
    {
     "name": "stdout",
     "output_type": "stream",
     "text": [
      "def mask_brain(volume,\n",
      "               template_name=None,\n",
      "               mask_threshold=None,\n",
      "               mask_self=True,\n",
      "               ):\n",
      "    \"\"\" Mask the simulated volume\n",
      "    This creates a mask specifying the approximate likelihood that a voxel is\n",
      "    part of the brain. All values are bounded to the range of 0 to 1. An\n",
      "    appropriate threshold to isolate brain voxels is >0.2. Critically,\n",
      "    the data that should be used to create a template shouldn't already be\n",
      "    masked/skull stripped. If it is then it will give in accurate estimates\n",
      "    of non-brain noise and corrupt estimations of SNR.\n",
      "\n",
      "    Parameters\n",
      "    ----------\n",
      "\n",
      "    volume : multidimensional array\n",
      "        Either numpy array of a volume or a tuple describing the dimensions\n",
      "        of the mask to be created\n",
      "\n",
      "    template_name : str\n",
      "        What is the path to the template to be loaded? If empty then it\n",
      "        defaults to an MNI152 grey matter mask. This is ignored if mask_self\n",
      "        is True.\n",
      "\n",
      "    mask_threshold : float\n",
      "        What is the threshold (0 -> 1) for including a voxel in the mask? If\n",
      "        None then the program will try and identify the last wide peak in a\n",
      "        histogram of the template (assumed to be the brain voxels) and takes\n",
      "        the minima before that peak as the threshold. Won't work when the\n",
      "        data is not bimodal.\n",
      "\n",
      "    mask_self : bool or None\n",
      "        If set to true then it makes a mask from the volume supplied (by\n",
      "        averaging across time points and changing the range). If it is set\n",
      "        to false then it will use the template_name as an input.\n",
      "\n",
      "    Returns\n",
      "    ----------\n",
      "\n",
      "    mask : 3 dimensional array, binary\n",
      "        The masked brain, thresholded to distinguish brain and non-brain\n",
      "\n",
      "    template : 3 dimensional array, float\n",
      "        A continuous (0 -> 1) volume describing the likelihood a voxel is in\n",
      "        the brain. This can be used to contrast the brain and non brain.\n",
      "\n",
      "    \"\"\"\n",
      "\n",
      "    # If the volume supplied is a 1d array then output a volume of the\n",
      "    # supplied dimensions\n",
      "    if len(volume.shape) == 1:\n",
      "        volume = np.ones(volume)\n",
      "\n",
      "    # Load in the mask\n",
      "    if mask_self is True:\n",
      "        mask_raw = volume\n",
      "    elif template_name is None:\n",
      "        mask_raw = np.load(resource_stream(__name__, \"grey_matter_mask.npy\"))\n",
      "    else:\n",
      "        mask_raw = np.load(template_name)\n",
      "\n",
      "    # Make the masks 3dremove_baseline\n",
      "    if len(mask_raw.shape) == 3:\n",
      "        mask_raw = np.array(mask_raw)\n",
      "    elif len(mask_raw.shape) == 4 and mask_raw.shape[3] == 1:\n",
      "        mask_raw = np.array(mask_raw[:, :, :, 0])\n",
      "    else:\n",
      "        mask_raw = np.mean(mask_raw, 3)\n",
      "\n",
      "    # Find the max value (so you can calulate these as proportions)\n",
      "    mask_max = mask_raw.max()\n",
      "\n",
      "    # Make sure the mask values range from 0 to 1 (make out of max of volume\n",
      "    #  so that this is invertible later)\n",
      "    mask_raw = mask_raw / mask_max\n",
      "\n",
      "    # If there is only one brain volume then make this a forth dimension\n",
      "    if len(volume.shape) == 3:\n",
      "        temp = np.zeros([volume.shape[0], volume.shape[1], volume.shape[2], 1])\n",
      "        temp[:, :, :, 0] = volume\n",
      "        volume = temp\n",
      "\n",
      "    # Reshape the mask to be the size as the brain\n",
      "    brain_dim = volume.shape\n",
      "    mask_dim = mask_raw.shape\n",
      "\n",
      "    zoom_factor = (brain_dim[0] / mask_dim[0],\n",
      "                   brain_dim[1] / mask_dim[1],\n",
      "                   brain_dim[2] / mask_dim[2],\n",
      "                   )\n",
      "\n",
      "    # Scale the mask according to the input brain\n",
      "    # You might get a warning if the zoom_factor is not an integer but you\n",
      "    # can safely ignore that.\n",
      "    template = ndimage.zoom(mask_raw, zoom_factor, order=2)\n",
      "    template[template < 0] = 0\n",
      "\n",
      "    # If the mask threshold is not supplied then guess it is a minima\n",
      "    # between the two peaks of the bimodal distribution of voxel activity\n",
      "    if mask_threshold is None:\n",
      "\n",
      "        # How many bins on either side of a peak will be compared\n",
      "        order = 5\n",
      "\n",
      "        # Make the histogram\n",
      "        template_vector = template.reshape(brain_dim[0] * brain_dim[1] *\n",
      "                                           brain_dim[2])\n",
      "        template_hist = np.histogram(template_vector, 100)\n",
      "\n",
      "        # Zero pad the values\n",
      "        binval = np.concatenate([np.zeros((order,)), template_hist[0]])\n",
      "        bins = np.concatenate([np.zeros((order,)), template_hist[1]])\n",
      "\n",
      "        # Identify the first two peaks\n",
      "        peaks = signal.argrelmax(binval, order=order)[0][0:2]\n",
      "\n",
      "        # What is the minima between peaks\n",
      "        minima = binval[peaks[0]:peaks[1]].min()\n",
      "\n",
      "        # What is the index of the last idx with this min value (since if\n",
      "        # zero, there may be many)\n",
      "        minima_idx = (np.where(binval[peaks[0]:peaks[1]] == minima) + peaks[\n",
      "            0])[-1]\n",
      "\n",
      "        # Convert the minima into a threshold\n",
      "        mask_threshold = bins[minima_idx][0]\n",
      "\n",
      "    # Mask the template based on the threshold\n",
      "    mask = np.zeros(template.shape)\n",
      "    mask[template > mask_threshold] = 1\n",
      "\n",
      "    return mask, template\n",
      "\n"
     ]
    }
   ],
   "source": [
    "import inspect # this \"inspect\" package can let you peek what's inside a function\n",
    "source_code = inspect.getsource(sim.mask_brain)\n",
    "print(source_code)"
   ]
  },
  {
   "cell_type": "markdown",
   "metadata": {},
   "source": [
    "#### Creating a Python function\n",
    "\n",
    "`sim.mask_brain()` is a Python \"function\". In general, a Python function has the following structure: \n",
    "\n",
    "    def function_name(input_1, input_2, ..., input_m):\n",
    "        some code \n",
    "        some code\n",
    "        ...\n",
    "        some code\n",
    "        return output1, output2, ... output_n"
   ]
  },
  {
   "cell_type": "markdown",
   "metadata": {},
   "source": [
    "**Exercise 1:**<a id=\"ex1\"></a> Change the above script in at least 3 ways (examples: add a subplot of different slices, change the colors, show a histogram of values, etc.):"
   ]
  },
  {
   "cell_type": "code",
   "execution_count": null,
   "metadata": {},
   "outputs": [],
   "source": [
    "def function_name(input_1, input_2, ..., input_m):\n",
    "    some code \n",
    "    some code\n",
    "    ...\n",
    "    some code\n",
    "    return output1, output2, ... output_n"
   ]
  },
  {
   "cell_type": "markdown",
   "metadata": {},
   "source": [
    "## Contributions<a id=\"contributions\"></a>\n",
    "  \n",
    "M. Kumar, C. Ellis and N. Turk-Browne produced the initial notebook  01/2018  \n",
    "T. Meissner minor edits  \n",
    "Q. Lu: switch to matplotlib, fix dead links, add resources, encapsulate brainiak fmrisim  \n",
    "C. Ellis updated with comments from cmhn-s19"
   ]
  }
 ],
 "metadata": {
  "anaconda-cloud": {},
  "kernelspec": {
   "display_name": "Python 3",
   "language": "python",
   "name": "python3"
  },
  "language_info": {
   "codemirror_mode": {
    "name": "ipython",
    "version": 3
   },
   "file_extension": ".py",
   "mimetype": "text/x-python",
   "name": "python",
   "nbconvert_exporter": "python",
   "pygments_lexer": "ipython3",
   "version": "3.6.10"
  }
 },
 "nbformat": 4,
 "nbformat_minor": 2
}
